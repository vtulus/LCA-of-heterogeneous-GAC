{
 "cells": [
  {
   "cell_type": "code",
   "execution_count": 1,
   "id": "dc075a87-3c79-48c8-a6fb-1b9e21df49f5",
   "metadata": {},
   "outputs": [],
   "source": [
    "import brightway2 as bw\n",
    "import bw2io\n",
    "import productivity_boosters as prbs\n",
    "from project_path import ROOT_DIR"
   ]
  },
  {
   "cell_type": "code",
   "execution_count": 2,
   "id": "c847b277-050c-4c01-9ac8-f715c3dcd999",
   "metadata": {},
   "outputs": [
    {
     "data": {
      "text/plain": [
       "Brightway2 projects manager with 14 objects:\n",
       "\tGAC_project\n",
       "\tSsbD_case_studies\n",
       "\taachen_fast_calculations\n",
       "\tcheck_PBsmethod\n",
       "\tdefault\n",
       "\tdouble_count_electricity\n",
       "\tgeminal_atom_catalysts\n",
       "\tgeminal_atom_catalysts_v2\n",
       "\tpremise_scenarios_ei35\n",
       "\tpremisified_scenarios\n",
       "\tpremisified_scenarios_cars\n",
       "\tsupply chain graph\n",
       "\ttest\n",
       "\ttrial-SimaPro-import-DME-trucks\n",
       "Use `projects.report()` to get a report on all projects."
      ]
     },
     "execution_count": 2,
     "metadata": {},
     "output_type": "execute_result"
    }
   ],
   "source": [
    "bw.projects"
   ]
  },
  {
   "cell_type": "code",
   "execution_count": 3,
   "id": "9b0804bf-76d6-4746-a961-3121684486fc",
   "metadata": {},
   "outputs": [],
   "source": [
    "bw.projects.set_current(\"GAC_project\")"
   ]
  },
  {
   "cell_type": "code",
   "execution_count": 4,
   "id": "8af12383-936b-43bb-82ce-3a6bdb1a0d52",
   "metadata": {},
   "outputs": [
    {
     "data": {
      "text/plain": [
       "Databases dictionary with 3 object(s):\n",
       "\tGAC_project_db\n",
       "\tbiosphere3\n",
       "\tei39cutoff"
      ]
     },
     "execution_count": 4,
     "metadata": {},
     "output_type": "execute_result"
    }
   ],
   "source": [
    "bw.databases"
   ]
  },
  {
   "cell_type": "code",
   "execution_count": 5,
   "id": "ebf5e2bf-86f4-48d9-9a35-a91a943f9028",
   "metadata": {},
   "outputs": [
    {
     "data": {
      "text/plain": [
       "[('IPCC 2013', 'climate change', 'global warming potential (GWP100)'),\n",
       " ('IPCC 2021', 'climate change', 'global warming potential (GWP100)')]"
      ]
     },
     "execution_count": 5,
     "metadata": {},
     "output_type": "execute_result"
    }
   ],
   "source": [
    "ipcc_methods = [\n",
    "    met\n",
    "    for met in bw.methods\n",
    "    if \"ipcc\" in str(met).lower()\n",
    "    and \"2021\" in str(met)\n",
    "    and \"no LT\" not in str(met)\n",
    "    and \"GWP100\" in str(met)\n",
    "    or (\n",
    "    \"2013\" in str(met)\n",
    "    and \"no LT\" not in str(met)\n",
    "    and \"GWP100\" in str(met)\n",
    "    )\n",
    "][:2]\n",
    "ipcc_methods"
   ]
  },
  {
   "cell_type": "code",
   "execution_count": 6,
   "id": "345341b7-e690-4136-aa58-c0c357b91366",
   "metadata": {},
   "outputs": [],
   "source": [
    "db_name = \"GAC_project_db\""
   ]
  },
  {
   "cell_type": "code",
   "execution_count": 7,
   "id": "17f92333-acf9-4ca4-995f-9f11e248b655",
   "metadata": {},
   "outputs": [
    {
     "data": {
      "text/plain": [
       "'1-(naphthalen-1-yl)-1H-imidazole production with heterogeneous Cu/PCN catalyst (10.8 wt% Cu)' (kilogram, GLO, None)"
      ]
     },
     "execution_count": 7,
     "metadata": {},
     "output_type": "execute_result"
    }
   ],
   "source": [
    "bw.Database(db_name).random()"
   ]
  },
  {
   "cell_type": "code",
   "execution_count": 8,
   "id": "a4363763-b0a3-4380-aca7-8c079cade40b",
   "metadata": {},
   "outputs": [
    {
     "name": "stdout",
     "output_type": "stream",
     "text": [
      "Duration: 0:00:00.932510\n"
     ]
    },
    {
     "data": {
      "text/html": [
       "<div>\n",
       "<style scoped>\n",
       "    .dataframe tbody tr th:only-of-type {\n",
       "        vertical-align: middle;\n",
       "    }\n",
       "\n",
       "    .dataframe tbody tr th {\n",
       "        vertical-align: top;\n",
       "    }\n",
       "\n",
       "    .dataframe thead th {\n",
       "        text-align: right;\n",
       "    }\n",
       "</style>\n",
       "<table border=\"1\" class=\"dataframe\">\n",
       "  <thead>\n",
       "    <tr style=\"text-align: right;\">\n",
       "      <th></th>\n",
       "      <th>database</th>\n",
       "      <th>activity name</th>\n",
       "      <th>reference product</th>\n",
       "      <th>unit</th>\n",
       "      <th>location</th>\n",
       "      <th>IPCC 2013 - climate change - global warming potential (GWP100) (kg CO2-Eq)</th>\n",
       "      <th>IPCC 2021 - climate change - global warming potential (GWP100) (kg CO2-Eq)</th>\n",
       "    </tr>\n",
       "  </thead>\n",
       "  <tbody>\n",
       "    <tr>\n",
       "      <th>0</th>\n",
       "      <td>GAC_project_db</td>\n",
       "      <td>1-(naphthalen-1-yl)-1H-imidazole production wi...</td>\n",
       "      <td>1-(naphthalen-1-yl)-1H-imidazole</td>\n",
       "      <td>kilogram</td>\n",
       "      <td>GLO</td>\n",
       "      <td>65.14669</td>\n",
       "      <td>70.013595</td>\n",
       "    </tr>\n",
       "  </tbody>\n",
       "</table>\n",
       "</div>"
      ],
      "text/plain": [
       "         database                                      activity name  \\\n",
       "0  GAC_project_db  1-(naphthalen-1-yl)-1H-imidazole production wi...   \n",
       "\n",
       "                  reference product      unit location  \\\n",
       "0  1-(naphthalen-1-yl)-1H-imidazole  kilogram      GLO   \n",
       "\n",
       "   IPCC 2013 - climate change - global warming potential (GWP100) (kg CO2-Eq)  \\\n",
       "0                                           65.14669                            \n",
       "\n",
       "   IPCC 2021 - climate change - global warming potential (GWP100) (kg CO2-Eq)  \n",
       "0                                          70.013595                           "
      ]
     },
     "execution_count": 8,
     "metadata": {},
     "output_type": "execute_result"
    }
   ],
   "source": [
    "prbs.pretty_lca(\n",
    "    FUs=[{bw.Database(db_name).random(): 1}],\n",
    "    methods=ipcc_methods,\n",
    ")"
   ]
  },
  {
   "cell_type": "code",
   "execution_count": 15,
   "id": "933ae682-a9fa-4d30-9007-f03a97f29990",
   "metadata": {},
   "outputs": [
    {
     "data": {
      "text/plain": [
       "'1-(naphthalen-1-yl)-1H-imidazole production with heterogeneous Cu/PCN catalyst (10.8 wt% Cu)' (kilogram, GLO, None)"
      ]
     },
     "execution_count": 15,
     "metadata": {},
     "output_type": "execute_result"
    }
   ],
   "source": [
    "act = [\n",
    "    ds\n",
    "    for ds in bw.Database(db_name)\n",
    "    # if \"Cu/PCN\" in ds[\"name\"]\n",
    "    # if \"Cu2O/Altman-Buchwald-ligand\" in ds[\"name\"]\n",
    "    if \"1-(naphthalen-1-yl)-1H-imidazole\" in ds[\"name\"] and \"Cu/PCN\" in ds[\"name\"]\n",
    "    # if \"1-(naphthalen-1-yl)-1H-imidazole\" in ds[\"name\"]\n",
    "    # and \"Cu2O/Altman-Buchwald-ligand\" in ds[\"name\"]\n",
    "][0]\n",
    "act"
   ]
  },
  {
   "cell_type": "code",
   "execution_count": 16,
   "id": "7abca588-39a9-408a-901f-c05496c9119b",
   "metadata": {},
   "outputs": [
    {
     "data": {
      "text/plain": [
       "[{('GAC_project_db', '139f233e9f82f1b69ce0b24c937534cc'): 1.590303374451379},\n",
       " {('ei39cutoff', '0676ac464c63abd8c67741e0d29959b6'): 0.5113382114654694},\n",
       " {('GAC_project_db', 'f788e007c820718322032271c4209793'): 0.03129655950036169},\n",
       " {('ei39cutoff', 'f77eaf2452afcc8249daafe224142893'): 34.43873407419801}]"
      ]
     },
     "execution_count": 16,
     "metadata": {},
     "output_type": "execute_result"
    }
   ],
   "source": [
    "exchange_amounts = []\n",
    "for exc in act.technosphere():\n",
    "    exc_amount = {exc[\"input\"]: exc[\"amount\"]}\n",
    "    exchange_amounts.append(exc_amount)\n",
    "exchange_amounts"
   ]
  },
  {
   "cell_type": "code",
   "execution_count": 17,
   "id": "2f96c8f4-c36e-401d-8263-87816b722f6c",
   "metadata": {},
   "outputs": [
    {
     "name": "stdout",
     "output_type": "stream",
     "text": [
      "Duration: 0:00:00.333508\n"
     ]
    },
    {
     "data": {
      "text/html": [
       "<div>\n",
       "<style scoped>\n",
       "    .dataframe tbody tr th:only-of-type {\n",
       "        vertical-align: middle;\n",
       "    }\n",
       "\n",
       "    .dataframe tbody tr th {\n",
       "        vertical-align: top;\n",
       "    }\n",
       "\n",
       "    .dataframe thead th {\n",
       "        text-align: right;\n",
       "    }\n",
       "</style>\n",
       "<table border=\"1\" class=\"dataframe\">\n",
       "  <thead>\n",
       "    <tr style=\"text-align: right;\">\n",
       "      <th></th>\n",
       "      <th>database</th>\n",
       "      <th>activity name</th>\n",
       "      <th>reference product</th>\n",
       "      <th>unit</th>\n",
       "      <th>location</th>\n",
       "      <th>IPCC 2013 - climate change - global warming potential (GWP100) (kg CO2-Eq)</th>\n",
       "      <th>IPCC 2021 - climate change - global warming potential (GWP100) (kg CO2-Eq)</th>\n",
       "    </tr>\n",
       "  </thead>\n",
       "  <tbody>\n",
       "    <tr>\n",
       "      <th>0</th>\n",
       "      <td>GAC_project_db</td>\n",
       "      <td>1-iodonaphthalene production</td>\n",
       "      <td>1-iodonaphthalene</td>\n",
       "      <td>kilogram</td>\n",
       "      <td>GLO</td>\n",
       "      <td>2.240059</td>\n",
       "      <td>2.169696</td>\n",
       "    </tr>\n",
       "    <tr>\n",
       "      <th>1</th>\n",
       "      <td>ei39cutoff</td>\n",
       "      <td>market for imidazole</td>\n",
       "      <td>imidazole</td>\n",
       "      <td>kilogram</td>\n",
       "      <td>GLO</td>\n",
       "      <td>2.829330</td>\n",
       "      <td>2.820805</td>\n",
       "    </tr>\n",
       "    <tr>\n",
       "      <th>2</th>\n",
       "      <td>GAC_project_db</td>\n",
       "      <td>Cu/PCN catalyst production, at 10.8 wt% Cu</td>\n",
       "      <td>Cu/PCN catalyst (10.8 wt% Cu)</td>\n",
       "      <td>kilogram</td>\n",
       "      <td>GLO</td>\n",
       "      <td>0.417053</td>\n",
       "      <td>0.283230</td>\n",
       "    </tr>\n",
       "    <tr>\n",
       "      <th>3</th>\n",
       "      <td>ei39cutoff</td>\n",
       "      <td>market for dimethyl sulfoxide</td>\n",
       "      <td>dimethyl sulfoxide</td>\n",
       "      <td>kilogram</td>\n",
       "      <td>GLO</td>\n",
       "      <td>50.841678</td>\n",
       "      <td>50.671387</td>\n",
       "    </tr>\n",
       "    <tr>\n",
       "      <th>4</th>\n",
       "      <td>GAC_project_db</td>\n",
       "      <td>1-(naphthalen-1-yl)-1H-imidazole production wi...</td>\n",
       "      <td>1-(naphthalen-1-yl)-1H-imidazole</td>\n",
       "      <td>kilogram</td>\n",
       "      <td>GLO</td>\n",
       "      <td>56.328123</td>\n",
       "      <td>55.945120</td>\n",
       "    </tr>\n",
       "  </tbody>\n",
       "</table>\n",
       "</div>"
      ],
      "text/plain": [
       "         database                                      activity name  \\\n",
       "0  GAC_project_db                       1-iodonaphthalene production   \n",
       "1      ei39cutoff                               market for imidazole   \n",
       "2  GAC_project_db         Cu/PCN catalyst production, at 10.8 wt% Cu   \n",
       "3      ei39cutoff                      market for dimethyl sulfoxide   \n",
       "4  GAC_project_db  1-(naphthalen-1-yl)-1H-imidazole production wi...   \n",
       "\n",
       "                  reference product      unit location  \\\n",
       "0                 1-iodonaphthalene  kilogram      GLO   \n",
       "1                         imidazole  kilogram      GLO   \n",
       "2     Cu/PCN catalyst (10.8 wt% Cu)  kilogram      GLO   \n",
       "3                dimethyl sulfoxide  kilogram      GLO   \n",
       "4  1-(naphthalen-1-yl)-1H-imidazole  kilogram      GLO   \n",
       "\n",
       "   IPCC 2013 - climate change - global warming potential (GWP100) (kg CO2-Eq)  \\\n",
       "0                                           2.240059                            \n",
       "1                                           2.829330                            \n",
       "2                                           0.417053                            \n",
       "3                                          50.841678                            \n",
       "4                                          56.328123                            \n",
       "\n",
       "   IPCC 2021 - climate change - global warming potential (GWP100) (kg CO2-Eq)  \n",
       "0                                           2.169696                           \n",
       "1                                           2.820805                           \n",
       "2                                           0.283230                           \n",
       "3                                          50.671387                           \n",
       "4                                          55.945120                           "
      ]
     },
     "execution_count": 17,
     "metadata": {},
     "output_type": "execute_result"
    }
   ],
   "source": [
    "\n",
    "df = prbs.pretty_lca(\n",
    "    FUs=exchange_amounts + [{act: 1}], methods=ipcc_methods, setup_name=\"contrib\"\n",
    ")\n",
    "df"
   ]
  },
  {
   "cell_type": "code",
   "execution_count": 18,
   "id": "00c05840-a98e-41ac-ac25-62564403d857",
   "metadata": {},
   "outputs": [
    {
     "data": {
      "image/png": "[encoded data removed]",
      "text/plain": [
       "<Figure size 432x288 with 1 Axes>"
      ]
     },
     "metadata": {
      "needs_background": "light"
     },
     "output_type": "display_data"
    }
   ],
   "source": [
    "axes = df.drop(labels=[\"database\", \"activity name\", \"unit\", \"location\"], axis=1).set_index(\n",
    "    \"reference product\"\n",
    ").T.iloc[1:, :-1].plot.bar(rot=0, stacked=True)\n",
    "axes.legend(loc=(1.04, 0));"
   ]
  },
  {
   "cell_type": "code",
   "execution_count": 14,
   "id": "a226e389-3869-4066-a32a-5d63969b38be",
   "metadata": {},
   "outputs": [
    {
     "data": {
      "image/png": "[encoded data removed]",
      "text/plain": [
       "<Figure size 432x288 with 1 Axes>"
      ]
     },
     "metadata": {
      "needs_background": "light"
     },
     "output_type": "display_data"
    }
   ],
   "source": [
    "axes = df.drop(labels=[\"database\", \"activity name\", \"unit\", \"location\"], axis=1).set_index(\n",
    "    \"reference product\"\n",
    ").T.iloc[1:, :-1].plot.bar(rot=0, stacked=True)\n",
    "axes.legend(loc=(1.04, 0));"
   ]
  },
  {
   "cell_type": "raw",
   "id": "7ec5e181-d38c-4cc9-bbd7-50fdee6debe7",
   "metadata": {},
   "source": [
    "df.set_index(keys=\"reference product\").iloc[:-1, :-1].plot.bar(\n",
    "    x=\"IPCC 2013 - climate change - global warming potential (GWP100) (kg CO2-Eq)\",\n",
    "    rot=90,\n",
    "    stacked=True,\n",
    ")"
   ]
  },
  {
   "cell_type": "raw",
   "id": "0a334fa2-5255-4731-8439-09732edb00e4",
   "metadata": {},
   "source": [
    "df.plot.bar(rot=2, subplots=True)"
   ]
  },
  {
   "cell_type": "code",
   "execution_count": 19,
   "id": "70fbd348-6ded-4971-8a41-5231eacece3b",
   "metadata": {},
   "outputs": [
    {
     "name": "stdout",
     "output_type": "stream",
     "text": [
      "('GAC_project_db', '139f233e9f82f1b69ce0b24c937534cc') : 2.2400591158249945\n",
      "('ei39cutoff', '0676ac464c63abd8c67741e0d29959b6') : 2.8293299671632157\n",
      "('GAC_project_db', 'f788e007c820718322032271c4209793') : 0.41705251700581003\n",
      "('ei39cutoff', 'f77eaf2452afcc8249daafe224142893') : 50.84167806073569\n"
     ]
    }
   ],
   "source": [
    "for exc in act.technosphere():\n",
    "    exc_amount = 1 * exc[\"amount\"]\n",
    "    lca = bw.LCA({exc.input: exc_amount}, ipcc_methods[0])\n",
    "    lca.lci()\n",
    "    lca.lcia()\n",
    "    print(exc[\"input\"],\":\",lca.score)"
   ]
  },
  {
   "cell_type": "markdown",
   "id": "2ccbf6f9-5f7d-4b26-b1d8-a330d7b42a11",
   "metadata": {},
   "source": [
    "## Out"
   ]
  },
  {
   "cell_type": "code",
   "execution_count": null,
   "id": "6d8fff27-27fe-49bd-b30f-4ad282fd8530",
   "metadata": {},
   "outputs": [],
   "source": [
    "bw2io.export.write_lci_excel(db_name)"
   ]
  }
 ],
 "metadata": {
  "kernelspec": {
   "display_name": "Python (bw2)",
   "language": "python",
   "name": "bw2"
  },
  "language_info": {
   "codemirror_mode": {
    "name": "ipython",
    "version": 3
   },
   "file_extension": ".py",
   "mimetype": "text/x-python",
   "name": "python",
   "nbconvert_exporter": "python",
   "pygments_lexer": "ipython3",
   "version": "3.9.7"
  }
 },
 "nbformat": 4,
 "nbformat_minor": 5
}
