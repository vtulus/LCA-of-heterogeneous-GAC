{
 "cells": [
  {
   "cell_type": "code",
   "execution_count": 1,
   "id": "dc075a87-3c79-48c8-a6fb-1b9e21df49f5",
   "metadata": {},
   "outputs": [],
   "source": [
    "from pprint import pprint\n",
    "from typing import Dict, List, Tuple\n",
    "\n",
    "import brightway2 as bw\n",
    "import bw2analyzer as ba\n",
    "import bw2calc as bc\n",
    "import bw2data as bd\n",
    "import pandas as pd\n",
    "import productivity_boosters as prbs\n",
    "from ipysankeywidget import SankeyWidget\n",
    "from ipywidgets import Layout"
   ]
  },
  {
   "cell_type": "code",
   "execution_count": 2,
   "id": "c847b277-050c-4c01-9ac8-f715c3dcd999",
   "metadata": {},
   "outputs": [
    {
     "data": {
      "text/plain": [
       "Databases dictionary with 3 object(s):\n",
       "\tGAC_project_db\n",
       "\tbiosphere3\n",
       "\tei39cutoff"
      ]
     },
     "execution_count": 2,
     "metadata": {},
     "output_type": "execute_result"
    }
   ],
   "source": [
    "bw.projects\n",
    "bw.projects.set_current(\"GAC_project\")\n",
    "bw.databases"
   ]
  },
  {
   "cell_type": "code",
   "execution_count": 3,
   "id": "ebf5e2bf-86f4-48d9-9a35-a91a943f9028",
   "metadata": {},
   "outputs": [
    {
     "data": {
      "text/plain": [
       "('IPCC 2021',\n",
       " 'climate change: including SLCFs',\n",
       " 'global warming potential (GWP100)')"
      ]
     },
     "execution_count": 3,
     "metadata": {},
     "output_type": "execute_result"
    }
   ],
   "source": [
    "ipcc_methods = [\n",
    "    met\n",
    "    for met in bw.methods\n",
    "    if \"ipcc 2021\" in str(met).lower()\n",
    "    and \"climate change: including SLCFs\" in str(met)\n",
    "    and \"no LT\" not in str(met)\n",
    "    and \"GWP100\" in str(met)\n",
    "    or (\"ipcc 2013\" in str(met).lower() and \"no LT\" not in str(met) and \"GWP100\" in str(met))\n",
    "    # or (\"ipcc 2021\" in str(met).lower() and \"no LT\" not in str(met) and \"GWP100\" in str(met))\n",
    "][1]# [:2]\n",
    "ipcc_methods\n"
   ]
  },
  {
   "cell_type": "code",
   "execution_count": 4,
   "id": "345341b7-e690-4136-aa58-c0c357b91366",
   "metadata": {},
   "outputs": [],
   "source": [
    "DB_NAME = \"GAC_project_db\""
   ]
  },
  {
   "cell_type": "code",
   "execution_count": 5,
   "id": "933ae682-a9fa-4d30-9007-f03a97f29990",
   "metadata": {
    "notebookRunGroups": {
     "groupValue": "1"
    }
   },
   "outputs": [
    {
     "data": {
      "text/plain": [
       "'1-(naphthalen-1-yl)-1H-imidazole production with heterogeneous Cu/PCN catalyst (10.8 wt% Cu)' (kilogram, GLO, None)"
      ]
     },
     "execution_count": 5,
     "metadata": {},
     "output_type": "execute_result"
    }
   ],
   "source": [
    "act_hetero = [\n",
    "    ds\n",
    "    for ds in bw.Database(DB_NAME)\n",
    "    if \"1-(naphthalen-1-yl)-1H-imidazole\" in ds[\"name\"] and \"Cu/PCN\" in ds[\"name\"]\n",
    "][0]\n",
    "act_hetero\n"
   ]
  },
  {
   "cell_type": "code",
   "execution_count": 6,
   "id": "c2f02f15",
   "metadata": {
    "notebookRunGroups": {
     "groupValue": "2"
    }
   },
   "outputs": [
    {
     "data": {
      "text/plain": [
       "'1-(naphthalen-1-yl)-1H-imidazole production with homogeneous Cu2O/Altman-Buchwald-ligand catalytic complex' (kilogram, GLO, None)"
      ]
     },
     "execution_count": 6,
     "metadata": {},
     "output_type": "execute_result"
    }
   ],
   "source": [
    "act_homogen = [\n",
    "    ds\n",
    "    for ds in bw.Database(DB_NAME)\n",
    "    if \"1-(naphthalen-1-yl)-1H-imidazole\" in ds[\"name\"]\n",
    "    and \"Cu2O/Altman-Buchwald-ligand\" in ds[\"name\"]\n",
    "][0]\n",
    "act_homogen\n"
   ]
  },
  {
   "cell_type": "code",
   "execution_count": 7,
   "id": "17f92333-acf9-4ca4-995f-9f11e248b655",
   "metadata": {},
   "outputs": [],
   "source": [
    "# bw.Database(DB_NAME).random()\n",
    "#TODO should be accepting `methods=str`. Correct\n",
    "\n",
    "# prbs.pretty_lca(\n",
    "#     FUs=[{act: 1}],\n",
    "#     methods=ipcc_methods,\n",
    "# )"
   ]
  },
  {
   "cell_type": "markdown",
   "id": "ad610209",
   "metadata": {},
   "source": [
    "### Functions"
   ]
  },
  {
   "cell_type": "code",
   "execution_count": 8,
   "id": "96359b04",
   "metadata": {},
   "outputs": [],
   "source": [
    "def print_recursive_calculation(activity, lcia_method, lca_obj=None, total_score=None, amount=1, level=0, max_level=3, cutoff=1e-2):\n",
    "    \"\"\"\"Taken from https://github.com/brightway-lca/brightway2/blob/master/notebooks/Contribution%20analysis%20and%20comparison.ipynb\"\"\"\n",
    "    if lca_obj is None:\n",
    "        lca_obj = bc.LCA({activity: amount}, lcia_method)\n",
    "        lca_obj.lci()\n",
    "        lca_obj.lcia()\n",
    "        total_score = lca_obj.score\n",
    "    elif total_score is None:\n",
    "        raise ValueError\n",
    "    else:\n",
    "        lca_obj.redo_lcia({activity: amount})\n",
    "        if abs(lca_obj.score) <= abs(total_score * cutoff):\n",
    "            return\n",
    "    print(\"{}{:4.3f} ({:06.4f}): {:.70}\".format(\"  \" * level, lca_obj.score / total_score, lca_obj.score, str(activity)))\n",
    "    if level < max_level:\n",
    "        for exc in activity.technosphere():\n",
    "            print_recursive_calculation(\n",
    "                activity=exc.input, \n",
    "                lcia_method=lcia_method, \n",
    "                lca_obj=lca_obj, \n",
    "                total_score=total_score, \n",
    "                amount=amount * exc['amount'], \n",
    "                level=level + 1, \n",
    "                max_level=max_level, \n",
    "                cutoff=cutoff\n",
    "            )    "
   ]
  },
  {
   "cell_type": "code",
   "execution_count": 9,
   "id": "916c1c18",
   "metadata": {},
   "outputs": [],
   "source": [
    "def get_named_edges(traversed_dict: Dict, act: bd.backends.peewee.Activity) -> List:\n",
    "    rev_activity_dict, _, _ = traversed_dict[\"lca\"].reverse_dict()\n",
    "    named_edges = []\n",
    "    for edge in traversed_dict[\"edges\"]:\n",
    "        named_edge = {\"impact\": edge[\"impact\"]}\n",
    "\n",
    "        act_from = bw.get_activity(rev_activity_dict[edge[\"from\"]])\n",
    "\n",
    "        named_edge[\"from\"] = act_from[\"name\"] # + \" (\" + act_from[\"location\"] + \")\"\n",
    "        if edge[\"to\"] == -1:\n",
    "            named_edge[\"to\"] = act[\"name\"] + \"(start)\"\n",
    "        else:\n",
    "            act_to = bw.get_activity(rev_activity_dict[edge[\"to\"]])\n",
    "            named_edge[\"to\"] = act_to[\"name\"] # + \" (\" + act_to[\"location\"]  + \")\"\n",
    "        named_edges.append(named_edge)\n",
    "    return named_edges\n"
   ]
  },
  {
   "cell_type": "code",
   "execution_count": 10,
   "id": "86da16f5",
   "metadata": {},
   "outputs": [],
   "source": [
    "def prepare_dataframe(lst: List[dict], group: bool = True) -> pd.DataFrame:\n",
    "    to_return = pd.DataFrame(lst)\n",
    "    to_return = to_return[[\"to\", \"from\", \"impact\"]].rename(\n",
    "        columns={\"to\": \"target\", \"from\": \"source\", \"impact\": \"value\"}\n",
    "    )\n",
    "    if group:\n",
    "        to_return = to_return.groupby([\"target\", \"source\"])[\"value\"].sum().reset_index()\n",
    "    return to_return\n"
   ]
  },
  {
   "cell_type": "code",
   "execution_count": 11,
   "id": "19374137",
   "metadata": {},
   "outputs": [],
   "source": [
    "def plot_sankey(\n",
    "    df_links: pd.DataFrame, size: Tuple, save: bool = True, file_name: str = \"test\"\n",
    "):\n",
    "    links = df_links.to_dict(\"records\")\n",
    "    layout = Layout(width=size[0], height=size[1])\n",
    "    sankey = SankeyWidget(\n",
    "        links=links,\n",
    "        linkLabelFormat=\".1f\",\n",
    "        layout=layout,\n",
    "        align_link_types=True,\n",
    "        # margins=dict(top=10, bottom=0, left=250, right=300),\n",
    "    )\n",
    "    if save:\n",
    "        sankey.auto_save_svg(f\"../data/interim/svg_files/{file_name}.svg\")\n",
    "    return sankey\n"
   ]
  },
  {
   "cell_type": "markdown",
   "id": "4d011371",
   "metadata": {},
   "source": [
    "## Print before Graph Traversal"
   ]
  },
  {
   "cell_type": "code",
   "execution_count": 12,
   "id": "2e24d83d",
   "metadata": {
    "notebookRunGroups": {
     "groupValue": "1"
    }
   },
   "outputs": [
    {
     "name": "stdout",
     "output_type": "stream",
     "text": [
      "1.000 (5.6098): '1-(naphthalen-1-yl)-1H-imidazole production with heterogeneous Cu/PCN\n",
      "  0.386 (2.1631): '1-iodonaphthalene production' (kilogram, GLO, None)\n",
      "    0.386 (2.1631): 'market for naphthalene sulfonic acid' (kilogram, GLO, None)\n",
      "      0.110 (0.6177): 'naphthalene sulfonic acid production' (kilogram, RER, None)\n",
      "      0.260 (1.4611): 'naphthalene sulfonic acid production' (kilogram, RoW, None)\n",
      "  0.487 (2.7300): 'market for imidazole' (kilogram, GLO, None)\n",
      "    0.352 (1.9760): 'imidazole production' (kilogram, RoW, None)\n",
      "      0.034 (0.1892): 'market for ammonia, anhydrous, liquid' (kilogram, CN, None)\n",
      "      0.060 (0.3385): 'market for ammonia, anhydrous, liquid' (kilogram, RoW, None)\n",
      "      0.012 (0.0663): 'market group for electricity, medium voltage' (kilowatt hour, RAS, No\n",
      "      0.031 (0.1711): 'market for formaldehyde' (kilogram, RoW, None)\n",
      "      0.171 (0.9603): 'market for glyoxal' (kilogram, RoW, None)\n",
      "      0.015 (0.0840): 'market for heat, from steam, in chemical industry' (megajoule, RoW, N\n",
      "    0.130 (0.7269): 'imidazole production' (kilogram, RER, None)\n",
      "      0.043 (0.2431): 'market for ammonia, anhydrous, liquid' (kilogram, RER, None)\n",
      "      0.014 (0.0775): 'market for formaldehyde' (kilogram, RER, None)\n",
      "      0.058 (0.3265): 'market for glyoxal' (kilogram, RER, None)\n",
      "  0.072 (0.4027): 'Cu/PCN catalyst production, at 10.8 wt% Cu' (kilogram, GLO, None)\n",
      "    0.059 (0.3308): 'polymeric carbon nitride prodution' (kilogram, GLO, None)\n",
      "      0.056 (0.3168): 'dicyandiamide production' (kilogram, GLO, None)\n",
      "  0.056 (0.3140): 'market for dimethyl sulfoxide' (kilogram, GLO, None)\n",
      "    0.016 (0.0909): 'dimethyl sulfoxide production' (kilogram, RER, None)\n",
      "    0.038 (0.2114): 'dimethyl sulfoxide production' (kilogram, RoW, None)\n",
      "      0.017 (0.0968): 'market for methanol' (kilogram, GLO, None)\n"
     ]
    }
   ],
   "source": [
    "print_recursive_calculation(activity=act_hetero, lcia_method=ipcc_methods)"
   ]
  },
  {
   "cell_type": "code",
   "execution_count": 13,
   "id": "26cb5309",
   "metadata": {
    "notebookRunGroups": {
     "groupValue": "2"
    }
   },
   "outputs": [
    {
     "name": "stdout",
     "output_type": "stream",
     "text": [
      "1.000 (70.3327): '1-(naphthalen-1-yl)-1H-imidazole production with homogeneous Cu2O/Alt\n",
      "  0.028 (2.0021): '1-iodonaphthalene production' (kilogram, GLO, None)\n",
      "    0.028 (2.0021): 'market for naphthalene sulfonic acid' (kilogram, GLO, None)\n",
      "      0.019 (1.3523): 'naphthalene sulfonic acid production' (kilogram, RoW, None)\n",
      "  0.036 (2.5268): 'market for imidazole' (kilogram, GLO, None)\n",
      "    0.026 (1.8289): 'imidazole production' (kilogram, RoW, None)\n",
      "      0.013 (0.8888): 'market for glyoxal' (kilogram, RoW, None)\n",
      "  0.771 (54.2100): 'Cu2O/Altman-Buchwald-ligand catalytic complex production' (kilogram, \n",
      "    0.767 (53.9492): '4,7-Dimethoxy-1,10-phenanthroline (Altman-Buchwald ligand) production\n",
      "      0.011 (0.8021): 'market for acetic acid, without water, in 98% solution state' (kilogr\n",
      "      0.012 (0.8247): 'market for acetic acid, without water, in 98% solution state' (kilogr\n",
      "      0.544 (38.2841): 'market for trichloromethane' (kilogram, RER, None)\n",
      "      0.016 (1.1572): 'market for aniline' (kilogram, RER, None)\n",
      "      0.032 (2.2780): 'market for acetyl chloride' (kilogram, GLO, None)\n",
      "      0.058 (4.0567): 'market for monochlorobenzene' (kilogram, RER, None)\n",
      "      0.093 (6.5463): 'market for phenol' (kilogram, RER, None)\n",
      "  0.165 (11.5937): 'market for N-methyl-2-pyrrolidone' (kilogram, GLO, None)\n",
      "    0.027 (1.8813): 'N-methyl-2-pyrrolidone production' (kilogram, RER, None)\n",
      "      0.021 (1.4707): 'market for butyrolactone' (kilogram, RER, None)\n",
      "    0.137 (9.6176): 'N-methyl-2-pyrrolidone production' (kilogram, RoW, None)\n",
      "      0.102 (7.1649): 'market for butyrolactone' (kilogram, RoW, None)\n",
      "      0.024 (1.6702): 'market for methylamine' (kilogram, RoW, None)\n"
     ]
    }
   ],
   "source": [
    "print_recursive_calculation(activity=act_homogen, lcia_method=ipcc_methods)"
   ]
  },
  {
   "cell_type": "markdown",
   "id": "78d47983",
   "metadata": {},
   "source": [
    "## Graph Traversal"
   ]
  },
  {
   "cell_type": "markdown",
   "id": "9eeb4d35",
   "metadata": {},
   "source": [
    "### Documentation regarding Graph Traversal\n",
    "\n",
    "```python\n",
    "t = bw.GraphTraversal().calculate(demand={act:1}, method=ipcc_methods[1])\n",
    "t.keys()\n",
    ">>> dict_keys(['nodes', 'edges', 'lca', 'counter'])\n",
    "# ---\n",
    "t[\"nodes\"][-1]\n",
    ">>>  {'amount': 1, 'cum': 9.327382788679612, 'ind': 9.327382788679611e-06}`\n",
    "```\n",
    "\n",
    "from [bw documentation](https://2.docs.brightway.dev/lca.html#graph-traversal):  \n",
    "`t[\"nodes\"]` - dictionary (each node = row index in `A` matrix)\n",
    "- `amount`: The total amount of this node needed to produce the functional unit\n",
    "- `cum`: The cumulative LCA impact score attributable to the needed amount of this node, including its specific supply chain.\n",
    "- `ind`: The individual LCA impact score directly attributable to one unit of this node, i.e. the score from the direct emissions and resource consumption of this node.\n",
    "\n",
    "```python\n",
    "t[\"edges\"][0]\n",
    ">>> {'to': -1,\n",
    " 'from': 21263,\n",
    " 'amount': 1,\n",
    " 'exc_amount': 1,\n",
    " 'impact': 9.327382788679609}\n",
    "```\n",
    "\n",
    "from [bw documentation](https://2.docs.brightway.dev/lca.html#graph-traversal):  \n",
    "``t[\"edges\"]`` - list  \n",
    "- ``to``: The row index of the node consuming the product.\n",
    "- ``from``: The row index of the node producing the product.\n",
    "- ``amount``: The total amount of product from needed for the amount of to needed.\n",
    "- ``exc_amount``: The amount of from needed for one unit of to, i.e. the value given in the technosphere matrix.\n",
    "- ``impact``: The total LCA impact score embodied in this edge, i.e. the individual score of from times amount."
   ]
  },
  {
   "cell_type": "code",
   "execution_count": 14,
   "id": "3fbab094",
   "metadata": {
    "notebookRunGroups": {
     "groupValue": "1"
    }
   },
   "outputs": [
    {
     "name": "stdout",
     "output_type": "stream",
     "text": [
      "Calculated 404 LCAs.\n"
     ]
    }
   ],
   "source": [
    "t_hetero = bw.GraphTraversal().calculate(demand={act_hetero: 1}, method=ipcc_methods, cutoff=0.05)\n",
    "print(f\"Calculated {t_hetero['counter']} LCAs.\")\n",
    "\n",
    "# Named edges in a list\n",
    "ne_hetero = get_named_edges(traversed_dict=t_hetero, act=act_hetero)\n",
    "# Clean dataframe with renamed columns\n",
    "df_hetero = prepare_dataframe(lst=ne_hetero, group=True)\n"
   ]
  },
  {
   "cell_type": "code",
   "execution_count": 15,
   "id": "a9b4181b",
   "metadata": {
    "notebookRunGroups": {
     "groupValue": "2"
    }
   },
   "outputs": [
    {
     "name": "stdout",
     "output_type": "stream",
     "text": [
      "Calculated 716 LCAs.\n"
     ]
    }
   ],
   "source": [
    "t_homogen = bw.GraphTraversal().calculate(demand={act_homogen: 1}, method=ipcc_methods, cutoff=0.028)\n",
    "print(f\"Calculated {t_homogen['counter']} LCAs.\")\n",
    "\n",
    "# Named edges in a list\n",
    "ne_homogen = get_named_edges(traversed_dict=t_homogen, act=act_homogen)\n",
    "# Clean dataframe with renamed columns\n",
    "df_homogen = prepare_dataframe(lst=ne_homogen, group=True)\n"
   ]
  },
  {
   "cell_type": "code",
   "execution_count": 16,
   "id": "be16a4e0",
   "metadata": {},
   "outputs": [],
   "source": [
    "# un = ba.GTManipulator().unroll_graph(\n",
    "#     nodes=t_hetero[\"nodes\"], edges=t_hetero[\"edges\"], score=t_hetero[\"nodes\"][-1][\"cum\"]\n",
    "# )\n",
    "\n",
    "# un[0].keys()\n",
    "# un[2]"
   ]
  },
  {
   "cell_type": "markdown",
   "id": "7621aa6c",
   "metadata": {},
   "source": [
    "## Plot results"
   ]
  },
  {
   "cell_type": "code",
   "execution_count": 17,
   "id": "c7e56c3c",
   "metadata": {
    "notebookRunGroups": {
     "groupValue": "12"
    }
   },
   "outputs": [
    {
     "data": {
      "text/plain": [
       "('1776.377952777', '453.54330709199996')"
      ]
     },
     "execution_count": 17,
     "metadata": {},
     "output_type": "execute_result"
    }
   ],
   "source": [
    "# Layout size in mm\n",
    "mm_to_px = 3.7795275591\n",
    "\n",
    "w_h_in_mm = (470,120)\n",
    "# w_h_in_mm = (200,70)\n",
    "(w_px, h_px) = str(w_h_in_mm[0]*mm_to_px), str(w_h_in_mm[1]*mm_to_px)\n",
    "(w_px, h_px)"
   ]
  },
  {
   "cell_type": "code",
   "execution_count": 18,
   "id": "d5c957d8",
   "metadata": {
    "notebookRunGroups": {
     "groupValue": "1"
    }
   },
   "outputs": [
    {
     "data": {
      "application/vnd.jupyter.widget-view+json": {
       "model_id": "598b5b96cbe54a65af0d231aeadeebb4",
       "version_major": 2,
       "version_minor": 0
      },
      "text/plain": [
       "SankeyWidget(align_link_types=True, layout=Layout(height='453.54330709199996', width='1776.377952777'), linkLa…"
      ]
     },
     "metadata": {},
     "output_type": "display_data"
    }
   ],
   "source": [
    "plot_sankey(\n",
    "    df_links=df_hetero[df_hetero.target != df_hetero.source],\n",
    "    size=(w_px, h_px),\n",
    "    save=True,\n",
    "    file_name=\"hetero\",\n",
    ")\n"
   ]
  },
  {
   "cell_type": "code",
   "execution_count": 19,
   "id": "2ba3498e",
   "metadata": {},
   "outputs": [
    {
     "data": {
      "text/html": [
       "<div>\n",
       "<style scoped>\n",
       "    .dataframe tbody tr th:only-of-type {\n",
       "        vertical-align: middle;\n",
       "    }\n",
       "\n",
       "    .dataframe tbody tr th {\n",
       "        vertical-align: top;\n",
       "    }\n",
       "\n",
       "    .dataframe thead th {\n",
       "        text-align: right;\n",
       "    }\n",
       "</style>\n",
       "<table border=\"1\" class=\"dataframe\">\n",
       "  <thead>\n",
       "    <tr style=\"text-align: right;\">\n",
       "      <th></th>\n",
       "      <th>target</th>\n",
       "      <th>source</th>\n",
       "      <th>value</th>\n",
       "    </tr>\n",
       "  </thead>\n",
       "  <tbody>\n",
       "    <tr>\n",
       "      <th>0</th>\n",
       "      <td>1-(naphthalen-1-yl)-1H-imidazole production wi...</td>\n",
       "      <td>1-iodonaphthalene production</td>\n",
       "      <td>2.163055</td>\n",
       "    </tr>\n",
       "    <tr>\n",
       "      <th>1</th>\n",
       "      <td>1-(naphthalen-1-yl)-1H-imidazole production wi...</td>\n",
       "      <td>Cu/PCN catalyst production, at 10.8 wt% Cu</td>\n",
       "      <td>0.402700</td>\n",
       "    </tr>\n",
       "    <tr>\n",
       "      <th>2</th>\n",
       "      <td>1-(naphthalen-1-yl)-1H-imidazole production wi...</td>\n",
       "      <td>market for dimethyl sulfoxide</td>\n",
       "      <td>0.314026</td>\n",
       "    </tr>\n",
       "    <tr>\n",
       "      <th>3</th>\n",
       "      <td>1-(naphthalen-1-yl)-1H-imidazole production wi...</td>\n",
       "      <td>market for imidazole</td>\n",
       "      <td>2.729986</td>\n",
       "    </tr>\n",
       "    <tr>\n",
       "      <th>4</th>\n",
       "      <td>1-(naphthalen-1-yl)-1H-imidazole production wi...</td>\n",
       "      <td>1-(naphthalen-1-yl)-1H-imidazole production wi...</td>\n",
       "      <td>5.609766</td>\n",
       "    </tr>\n",
       "    <tr>\n",
       "      <th>5</th>\n",
       "      <td>1-iodonaphthalene production</td>\n",
       "      <td>market for naphthalene sulfonic acid</td>\n",
       "      <td>2.163055</td>\n",
       "    </tr>\n",
       "    <tr>\n",
       "      <th>6</th>\n",
       "      <td>Cu/PCN catalyst production, at 10.8 wt% Cu</td>\n",
       "      <td>polymeric carbon nitride prodution</td>\n",
       "      <td>0.330835</td>\n",
       "    </tr>\n",
       "    <tr>\n",
       "      <th>7</th>\n",
       "      <td>air separation, cryogenic</td>\n",
       "      <td>market group for electricity, medium voltage</td>\n",
       "      <td>0.251784</td>\n",
       "    </tr>\n",
       "    <tr>\n",
       "      <th>8</th>\n",
       "      <td>calcium carbide production, technical grade</td>\n",
       "      <td>market group for electricity, medium voltage</td>\n",
       "      <td>0.074602</td>\n",
       "    </tr>\n",
       "    <tr>\n",
       "      <th>9</th>\n",
       "      <td>coking</td>\n",
       "      <td>market for hard coal</td>\n",
       "      <td>0.318650</td>\n",
       "    </tr>\n",
       "    <tr>\n",
       "      <th>10</th>\n",
       "      <td>coking</td>\n",
       "      <td>market group for electricity, medium voltage</td>\n",
       "      <td>0.022442</td>\n",
       "    </tr>\n",
       "    <tr>\n",
       "      <th>11</th>\n",
       "      <td>dicyandiamide production</td>\n",
       "      <td>market for calcium carbide, technical grade</td>\n",
       "      <td>0.310739</td>\n",
       "    </tr>\n",
       "    <tr>\n",
       "      <th>12</th>\n",
       "      <td>ethylene oxide production</td>\n",
       "      <td>market for ethylene</td>\n",
       "      <td>0.280362</td>\n",
       "    </tr>\n",
       "    <tr>\n",
       "      <th>13</th>\n",
       "      <td>ethylene oxide production</td>\n",
       "      <td>market for oxygen, liquid</td>\n",
       "      <td>0.120335</td>\n",
       "    </tr>\n",
       "    <tr>\n",
       "      <th>14</th>\n",
       "      <td>ethylene oxide production</td>\n",
       "      <td>market group for electricity, medium voltage</td>\n",
       "      <td>0.047217</td>\n",
       "    </tr>\n",
       "    <tr>\n",
       "      <th>15</th>\n",
       "      <td>glyoxal production</td>\n",
       "      <td>market for ethylene oxide</td>\n",
       "      <td>0.565643</td>\n",
       "    </tr>\n",
       "    <tr>\n",
       "      <th>16</th>\n",
       "      <td>glyoxal production</td>\n",
       "      <td>market for oxygen, liquid</td>\n",
       "      <td>0.188715</td>\n",
       "    </tr>\n",
       "    <tr>\n",
       "      <th>17</th>\n",
       "      <td>glyoxal production</td>\n",
       "      <td>market group for electricity, medium voltage</td>\n",
       "      <td>0.076679</td>\n",
       "    </tr>\n",
       "    <tr>\n",
       "      <th>18</th>\n",
       "      <td>imidazole production</td>\n",
       "      <td>market for ammonia, anhydrous, liquid</td>\n",
       "      <td>0.338462</td>\n",
       "    </tr>\n",
       "    <tr>\n",
       "      <th>19</th>\n",
       "      <td>imidazole production</td>\n",
       "      <td>market for glyoxal</td>\n",
       "      <td>1.286795</td>\n",
       "    </tr>\n",
       "    <tr>\n",
       "      <th>20</th>\n",
       "      <td>imidazole production</td>\n",
       "      <td>market group for electricity, medium voltage</td>\n",
       "      <td>0.085404</td>\n",
       "    </tr>\n",
       "    <tr>\n",
       "      <th>21</th>\n",
       "      <td>market for calcium carbide, technical grade</td>\n",
       "      <td>calcium carbide production, technical grade</td>\n",
       "      <td>0.308768</td>\n",
       "    </tr>\n",
       "    <tr>\n",
       "      <th>22</th>\n",
       "      <td>market for coal tar</td>\n",
       "      <td>coking</td>\n",
       "      <td>0.821164</td>\n",
       "    </tr>\n",
       "    <tr>\n",
       "      <th>23</th>\n",
       "      <td>market for ethylene</td>\n",
       "      <td>ethylene production, average</td>\n",
       "      <td>0.282943</td>\n",
       "    </tr>\n",
       "    <tr>\n",
       "      <th>24</th>\n",
       "      <td>market for ethylene oxide</td>\n",
       "      <td>ethylene oxide production</td>\n",
       "      <td>0.566556</td>\n",
       "    </tr>\n",
       "    <tr>\n",
       "      <th>25</th>\n",
       "      <td>market for glyoxal</td>\n",
       "      <td>glyoxal production</td>\n",
       "      <td>1.266251</td>\n",
       "    </tr>\n",
       "    <tr>\n",
       "      <th>26</th>\n",
       "      <td>market for hard coal</td>\n",
       "      <td>hard coal mine operation and hard coal prepara...</td>\n",
       "      <td>0.478516</td>\n",
       "    </tr>\n",
       "    <tr>\n",
       "      <th>27</th>\n",
       "      <td>market for hard coal</td>\n",
       "      <td>market group for electricity, medium voltage</td>\n",
       "      <td>0.015134</td>\n",
       "    </tr>\n",
       "    <tr>\n",
       "      <th>28</th>\n",
       "      <td>market for imidazole</td>\n",
       "      <td>imidazole production</td>\n",
       "      <td>2.702893</td>\n",
       "    </tr>\n",
       "    <tr>\n",
       "      <th>29</th>\n",
       "      <td>market for naphthalene sulfonic acid</td>\n",
       "      <td>naphthalene sulfonic acid production</td>\n",
       "      <td>2.078794</td>\n",
       "    </tr>\n",
       "    <tr>\n",
       "      <th>30</th>\n",
       "      <td>market for oxygen, liquid</td>\n",
       "      <td>air separation, cryogenic</td>\n",
       "      <td>0.319764</td>\n",
       "    </tr>\n",
       "    <tr>\n",
       "      <th>31</th>\n",
       "      <td>market for wood preservative, creosote</td>\n",
       "      <td>wood preservative production, creosote</td>\n",
       "      <td>1.019797</td>\n",
       "    </tr>\n",
       "    <tr>\n",
       "      <th>32</th>\n",
       "      <td>market group for electricity, medium voltage</td>\n",
       "      <td>market group for electricity, medium voltage</td>\n",
       "      <td>1.436761</td>\n",
       "    </tr>\n",
       "    <tr>\n",
       "      <th>33</th>\n",
       "      <td>naphthalene sulfonic acid production</td>\n",
       "      <td>market for wood preservative, creosote</td>\n",
       "      <td>1.081765</td>\n",
       "    </tr>\n",
       "    <tr>\n",
       "      <th>34</th>\n",
       "      <td>naphthalene sulfonic acid production</td>\n",
       "      <td>market group for electricity, medium voltage</td>\n",
       "      <td>0.331818</td>\n",
       "    </tr>\n",
       "    <tr>\n",
       "      <th>35</th>\n",
       "      <td>polymeric carbon nitride prodution</td>\n",
       "      <td>dicyandiamide production</td>\n",
       "      <td>0.316818</td>\n",
       "    </tr>\n",
       "    <tr>\n",
       "      <th>36</th>\n",
       "      <td>wood preservative production, creosote</td>\n",
       "      <td>market for coal tar</td>\n",
       "      <td>0.828883</td>\n",
       "    </tr>\n",
       "    <tr>\n",
       "      <th>37</th>\n",
       "      <td>wood preservative production, creosote</td>\n",
       "      <td>market group for electricity, medium voltage</td>\n",
       "      <td>0.033588</td>\n",
       "    </tr>\n",
       "  </tbody>\n",
       "</table>\n",
       "</div>"
      ],
      "text/plain": [
       "                                               target  \\\n",
       "0   1-(naphthalen-1-yl)-1H-imidazole production wi...   \n",
       "1   1-(naphthalen-1-yl)-1H-imidazole production wi...   \n",
       "2   1-(naphthalen-1-yl)-1H-imidazole production wi...   \n",
       "3   1-(naphthalen-1-yl)-1H-imidazole production wi...   \n",
       "4   1-(naphthalen-1-yl)-1H-imidazole production wi...   \n",
       "5                        1-iodonaphthalene production   \n",
       "6          Cu/PCN catalyst production, at 10.8 wt% Cu   \n",
       "7                           air separation, cryogenic   \n",
       "8         calcium carbide production, technical grade   \n",
       "9                                              coking   \n",
       "10                                             coking   \n",
       "11                           dicyandiamide production   \n",
       "12                          ethylene oxide production   \n",
       "13                          ethylene oxide production   \n",
       "14                          ethylene oxide production   \n",
       "15                                 glyoxal production   \n",
       "16                                 glyoxal production   \n",
       "17                                 glyoxal production   \n",
       "18                               imidazole production   \n",
       "19                               imidazole production   \n",
       "20                               imidazole production   \n",
       "21        market for calcium carbide, technical grade   \n",
       "22                                market for coal tar   \n",
       "23                                market for ethylene   \n",
       "24                          market for ethylene oxide   \n",
       "25                                 market for glyoxal   \n",
       "26                               market for hard coal   \n",
       "27                               market for hard coal   \n",
       "28                               market for imidazole   \n",
       "29               market for naphthalene sulfonic acid   \n",
       "30                          market for oxygen, liquid   \n",
       "31             market for wood preservative, creosote   \n",
       "32       market group for electricity, medium voltage   \n",
       "33               naphthalene sulfonic acid production   \n",
       "34               naphthalene sulfonic acid production   \n",
       "35                 polymeric carbon nitride prodution   \n",
       "36             wood preservative production, creosote   \n",
       "37             wood preservative production, creosote   \n",
       "\n",
       "                                               source     value  \n",
       "0                        1-iodonaphthalene production  2.163055  \n",
       "1          Cu/PCN catalyst production, at 10.8 wt% Cu  0.402700  \n",
       "2                       market for dimethyl sulfoxide  0.314026  \n",
       "3                                market for imidazole  2.729986  \n",
       "4   1-(naphthalen-1-yl)-1H-imidazole production wi...  5.609766  \n",
       "5                market for naphthalene sulfonic acid  2.163055  \n",
       "6                  polymeric carbon nitride prodution  0.330835  \n",
       "7        market group for electricity, medium voltage  0.251784  \n",
       "8        market group for electricity, medium voltage  0.074602  \n",
       "9                                market for hard coal  0.318650  \n",
       "10       market group for electricity, medium voltage  0.022442  \n",
       "11        market for calcium carbide, technical grade  0.310739  \n",
       "12                                market for ethylene  0.280362  \n",
       "13                          market for oxygen, liquid  0.120335  \n",
       "14       market group for electricity, medium voltage  0.047217  \n",
       "15                          market for ethylene oxide  0.565643  \n",
       "16                          market for oxygen, liquid  0.188715  \n",
       "17       market group for electricity, medium voltage  0.076679  \n",
       "18              market for ammonia, anhydrous, liquid  0.338462  \n",
       "19                                 market for glyoxal  1.286795  \n",
       "20       market group for electricity, medium voltage  0.085404  \n",
       "21        calcium carbide production, technical grade  0.308768  \n",
       "22                                             coking  0.821164  \n",
       "23                       ethylene production, average  0.282943  \n",
       "24                          ethylene oxide production  0.566556  \n",
       "25                                 glyoxal production  1.266251  \n",
       "26  hard coal mine operation and hard coal prepara...  0.478516  \n",
       "27       market group for electricity, medium voltage  0.015134  \n",
       "28                               imidazole production  2.702893  \n",
       "29               naphthalene sulfonic acid production  2.078794  \n",
       "30                          air separation, cryogenic  0.319764  \n",
       "31             wood preservative production, creosote  1.019797  \n",
       "32       market group for electricity, medium voltage  1.436761  \n",
       "33             market for wood preservative, creosote  1.081765  \n",
       "34       market group for electricity, medium voltage  0.331818  \n",
       "35                           dicyandiamide production  0.316818  \n",
       "36                                market for coal tar  0.828883  \n",
       "37       market group for electricity, medium voltage  0.033588  "
      ]
     },
     "execution_count": 19,
     "metadata": {},
     "output_type": "execute_result"
    }
   ],
   "source": [
    "df_hetero"
   ]
  },
  {
   "cell_type": "code",
   "execution_count": 20,
   "id": "6f8f12bf",
   "metadata": {
    "notebookRunGroups": {
     "groupValue": "2"
    }
   },
   "outputs": [
    {
     "data": {
      "application/vnd.jupyter.widget-view+json": {
       "model_id": "d2c51b50000e465dac1ef029d5e311cd",
       "version_major": 2,
       "version_minor": 0
      },
      "text/plain": [
       "SankeyWidget(align_link_types=True, layout=Layout(height='453.54330709199996', width='1776.377952777'), linkLa…"
      ]
     },
     "metadata": {},
     "output_type": "display_data"
    }
   ],
   "source": [
    "plot_sankey(\n",
    "    df_links=df_homogen[df_homogen.target != df_homogen.source],\n",
    "    size=(w_px, h_px),\n",
    "    save=True,\n",
    "    file_name=\"homogen\",\n",
    ")\n"
   ]
  },
  {
   "cell_type": "code",
   "execution_count": 21,
   "id": "f00a4dda",
   "metadata": {},
   "outputs": [
    {
     "data": {
      "text/html": [
       "<div>\n",
       "<style scoped>\n",
       "    .dataframe tbody tr th:only-of-type {\n",
       "        vertical-align: middle;\n",
       "    }\n",
       "\n",
       "    .dataframe tbody tr th {\n",
       "        vertical-align: top;\n",
       "    }\n",
       "\n",
       "    .dataframe thead th {\n",
       "        text-align: right;\n",
       "    }\n",
       "</style>\n",
       "<table border=\"1\" class=\"dataframe\">\n",
       "  <thead>\n",
       "    <tr style=\"text-align: right;\">\n",
       "      <th></th>\n",
       "      <th>target</th>\n",
       "      <th>source</th>\n",
       "      <th>value</th>\n",
       "    </tr>\n",
       "  </thead>\n",
       "  <tbody>\n",
       "    <tr>\n",
       "      <th>53</th>\n",
       "      <td>market group for electricity, medium voltage</td>\n",
       "      <td>market group for electricity, medium voltage</td>\n",
       "      <td>14.787129</td>\n",
       "    </tr>\n",
       "    <tr>\n",
       "      <th>18</th>\n",
       "      <td>air separation, cryogenic</td>\n",
       "      <td>market group for electricity, medium voltage</td>\n",
       "      <td>2.297423</td>\n",
       "    </tr>\n",
       "    <tr>\n",
       "      <th>28</th>\n",
       "      <td>chlor-alkali electrolysis, membrane cell</td>\n",
       "      <td>market group for electricity, medium voltage</td>\n",
       "      <td>2.133812</td>\n",
       "    </tr>\n",
       "    <tr>\n",
       "      <th>59</th>\n",
       "      <td>trichloromethane production</td>\n",
       "      <td>market group for electricity, medium voltage</td>\n",
       "      <td>1.562060</td>\n",
       "    </tr>\n",
       "    <tr>\n",
       "      <th>14</th>\n",
       "      <td>N-methyl-2-pyrrolidone production</td>\n",
       "      <td>market group for electricity, medium voltage</td>\n",
       "      <td>0.357757</td>\n",
       "    </tr>\n",
       "    <tr>\n",
       "      <th>26</th>\n",
       "      <td>butane-1,4-diol production</td>\n",
       "      <td>market group for electricity, medium voltage</td>\n",
       "      <td>0.333475</td>\n",
       "    </tr>\n",
       "    <tr>\n",
       "      <th>33</th>\n",
       "      <td>cumene production</td>\n",
       "      <td>market group for electricity, medium voltage</td>\n",
       "      <td>0.300437</td>\n",
       "    </tr>\n",
       "    <tr>\n",
       "      <th>36</th>\n",
       "      <td>dehydrogenation of butan-1,4-diol</td>\n",
       "      <td>market group for electricity, medium voltage</td>\n",
       "      <td>0.270366</td>\n",
       "    </tr>\n",
       "    <tr>\n",
       "      <th>56</th>\n",
       "      <td>phenol production, from cumene</td>\n",
       "      <td>market group for electricity, medium voltage</td>\n",
       "      <td>0.243044</td>\n",
       "    </tr>\n",
       "    <tr>\n",
       "      <th>30</th>\n",
       "      <td>chlorine production, liquid</td>\n",
       "      <td>market group for electricity, medium voltage</td>\n",
       "      <td>0.237712</td>\n",
       "    </tr>\n",
       "    <tr>\n",
       "      <th>37</th>\n",
       "      <td>heat production, at hard coal industrial furna...</td>\n",
       "      <td>market group for electricity, medium voltage</td>\n",
       "      <td>0.046197</td>\n",
       "    </tr>\n",
       "    <tr>\n",
       "      <th>21</th>\n",
       "      <td>benzene chlorination</td>\n",
       "      <td>market group for electricity, medium voltage</td>\n",
       "      <td>0.029376</td>\n",
       "    </tr>\n",
       "    <tr>\n",
       "      <th>17</th>\n",
       "      <td>acetylene production</td>\n",
       "      <td>market group for electricity, medium voltage</td>\n",
       "      <td>0.000061</td>\n",
       "    </tr>\n",
       "  </tbody>\n",
       "</table>\n",
       "</div>"
      ],
      "text/plain": [
       "                                               target  \\\n",
       "53       market group for electricity, medium voltage   \n",
       "18                          air separation, cryogenic   \n",
       "28           chlor-alkali electrolysis, membrane cell   \n",
       "59                        trichloromethane production   \n",
       "14                  N-methyl-2-pyrrolidone production   \n",
       "26                         butane-1,4-diol production   \n",
       "33                                  cumene production   \n",
       "36                  dehydrogenation of butan-1,4-diol   \n",
       "56                     phenol production, from cumene   \n",
       "30                        chlorine production, liquid   \n",
       "37  heat production, at hard coal industrial furna...   \n",
       "21                               benzene chlorination   \n",
       "17                               acetylene production   \n",
       "\n",
       "                                          source      value  \n",
       "53  market group for electricity, medium voltage  14.787129  \n",
       "18  market group for electricity, medium voltage   2.297423  \n",
       "28  market group for electricity, medium voltage   2.133812  \n",
       "59  market group for electricity, medium voltage   1.562060  \n",
       "14  market group for electricity, medium voltage   0.357757  \n",
       "26  market group for electricity, medium voltage   0.333475  \n",
       "33  market group for electricity, medium voltage   0.300437  \n",
       "36  market group for electricity, medium voltage   0.270366  \n",
       "56  market group for electricity, medium voltage   0.243044  \n",
       "30  market group for electricity, medium voltage   0.237712  \n",
       "37  market group for electricity, medium voltage   0.046197  \n",
       "21  market group for electricity, medium voltage   0.029376  \n",
       "17  market group for electricity, medium voltage   0.000061  "
      ]
     },
     "execution_count": 21,
     "metadata": {},
     "output_type": "execute_result"
    }
   ],
   "source": [
    "df_homogen[\n",
    "    df_homogen.source.isin([\"market group for electricity, medium voltage\"])\n",
    "].sort_values(\"value\", ascending=False)\n"
   ]
  },
  {
   "cell_type": "code",
   "execution_count": 22,
   "id": "d17082fb",
   "metadata": {},
   "outputs": [
    {
     "data": {
      "text/html": [
       "<div>\n",
       "<style scoped>\n",
       "    .dataframe tbody tr th:only-of-type {\n",
       "        vertical-align: middle;\n",
       "    }\n",
       "\n",
       "    .dataframe tbody tr th {\n",
       "        vertical-align: top;\n",
       "    }\n",
       "\n",
       "    .dataframe thead th {\n",
       "        text-align: right;\n",
       "    }\n",
       "</style>\n",
       "<table border=\"1\" class=\"dataframe\">\n",
       "  <thead>\n",
       "    <tr style=\"text-align: right;\">\n",
       "      <th></th>\n",
       "      <th>target</th>\n",
       "      <th>source</th>\n",
       "      <th>value</th>\n",
       "    </tr>\n",
       "  </thead>\n",
       "  <tbody>\n",
       "    <tr>\n",
       "      <th>61</th>\n",
       "      <td>trichloromethane production</td>\n",
       "      <td>market group for natural gas, high pressure</td>\n",
       "      <td>1.163064</td>\n",
       "    </tr>\n",
       "    <tr>\n",
       "      <th>38</th>\n",
       "      <td>heat production, natural gas, at industrial fu...</td>\n",
       "      <td>market group for natural gas, high pressure</td>\n",
       "      <td>1.131604</td>\n",
       "    </tr>\n",
       "  </tbody>\n",
       "</table>\n",
       "</div>"
      ],
      "text/plain": [
       "                                               target  \\\n",
       "61                        trichloromethane production   \n",
       "38  heat production, natural gas, at industrial fu...   \n",
       "\n",
       "                                         source     value  \n",
       "61  market group for natural gas, high pressure  1.163064  \n",
       "38  market group for natural gas, high pressure  1.131604  "
      ]
     },
     "execution_count": 22,
     "metadata": {},
     "output_type": "execute_result"
    }
   ],
   "source": [
    "df_homogen[\n",
    "    df_homogen.source.isin([\"market group for natural gas, high pressure\"])\n",
    "].sort_values(\"value\", ascending=False)\n"
   ]
  },
  {
   "cell_type": "code",
   "execution_count": 23,
   "id": "6cc0dccb",
   "metadata": {},
   "outputs": [
    {
     "data": {
      "text/html": [
       "<div>\n",
       "<style scoped>\n",
       "    .dataframe tbody tr th:only-of-type {\n",
       "        vertical-align: middle;\n",
       "    }\n",
       "\n",
       "    .dataframe tbody tr th {\n",
       "        vertical-align: top;\n",
       "    }\n",
       "\n",
       "    .dataframe thead th {\n",
       "        text-align: right;\n",
       "    }\n",
       "</style>\n",
       "<table border=\"1\" class=\"dataframe\">\n",
       "  <thead>\n",
       "    <tr style=\"text-align: right;\">\n",
       "      <th></th>\n",
       "      <th>target</th>\n",
       "      <th>source</th>\n",
       "      <th>value</th>\n",
       "    </tr>\n",
       "  </thead>\n",
       "  <tbody>\n",
       "    <tr>\n",
       "      <th>60</th>\n",
       "      <td>trichloromethane production</td>\n",
       "      <td>market group for heat, district or industrial,...</td>\n",
       "      <td>5.784491</td>\n",
       "    </tr>\n",
       "    <tr>\n",
       "      <th>58</th>\n",
       "      <td>trichloromethane production</td>\n",
       "      <td>market for chlorine, liquid</td>\n",
       "      <td>5.032062</td>\n",
       "    </tr>\n",
       "    <tr>\n",
       "      <th>59</th>\n",
       "      <td>trichloromethane production</td>\n",
       "      <td>market group for electricity, medium voltage</td>\n",
       "      <td>1.562060</td>\n",
       "    </tr>\n",
       "    <tr>\n",
       "      <th>61</th>\n",
       "      <td>trichloromethane production</td>\n",
       "      <td>market group for natural gas, high pressure</td>\n",
       "      <td>1.163064</td>\n",
       "    </tr>\n",
       "  </tbody>\n",
       "</table>\n",
       "</div>"
      ],
      "text/plain": [
       "                         target  \\\n",
       "60  trichloromethane production   \n",
       "58  trichloromethane production   \n",
       "59  trichloromethane production   \n",
       "61  trichloromethane production   \n",
       "\n",
       "                                               source     value  \n",
       "60  market group for heat, district or industrial,...  5.784491  \n",
       "58                        market for chlorine, liquid  5.032062  \n",
       "59       market group for electricity, medium voltage  1.562060  \n",
       "61        market group for natural gas, high pressure  1.163064  "
      ]
     },
     "execution_count": 23,
     "metadata": {},
     "output_type": "execute_result"
    }
   ],
   "source": [
    "df_homogen[\n",
    "    df_homogen.target.isin([\"trichloromethane production\"])\n",
    "].sort_values(\"value\", ascending=False)"
   ]
  },
  {
   "cell_type": "code",
   "execution_count": null,
   "id": "901f36a7",
   "metadata": {},
   "outputs": [],
   "source": []
  }
 ],
 "metadata": {
  "kernelspec": {
   "display_name": "Python 3.9.7",
   "language": "python",
   "name": "python3"
  },
  "language_info": {
   "codemirror_mode": {
    "name": "ipython",
    "version": 3
   },
   "file_extension": ".py",
   "mimetype": "text/x-python",
   "name": "python",
   "nbconvert_exporter": "python",
   "pygments_lexer": "ipython3",
   "version": "3.9.7"
  },
  "vscode": {
   "interpreter": {
    "hash": "bd958e837233136b65ef886a306db27124b4a48f9a20f2930a4727b08bf88f0b"
   }
  }
 },
 "nbformat": 4,
 "nbformat_minor": 5
}
