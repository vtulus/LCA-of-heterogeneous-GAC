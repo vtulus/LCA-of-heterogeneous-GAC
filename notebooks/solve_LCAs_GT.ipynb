{
 "cells": [
  {
   "cell_type": "code",
   "execution_count": 1,
   "id": "dc075a87-3c79-48c8-a6fb-1b9e21df49f5",
   "metadata": {},
   "outputs": [],
   "source": [
    "from pprint import pprint\n",
    "\n",
    "import brightway2 as bw\n",
    "import bw2analyzer as ba\n",
    "import bw2calc as bc\n",
    "import bw2data as bd\n",
    "import pandas as pd\n",
    "import productivity_boosters as prbs\n",
    "from ipysankeywidget import SankeyWidget\n",
    "from ipywidgets import Layout\n",
    "\n",
    "from typing import List, Dict, Tuple\n"
   ]
  },
  {
   "cell_type": "code",
   "execution_count": 2,
   "id": "c847b277-050c-4c01-9ac8-f715c3dcd999",
   "metadata": {},
   "outputs": [
    {
     "data": {
      "text/plain": [
       "Databases dictionary with 3 object(s):\n",
       "\tGAC_project_db\n",
       "\tbiosphere3\n",
       "\tei39cutoff"
      ]
     },
     "execution_count": 2,
     "metadata": {},
     "output_type": "execute_result"
    }
   ],
   "source": [
    "bw.projects\n",
    "bw.projects.set_current(\"GAC_project\")\n",
    "bw.databases"
   ]
  },
  {
   "cell_type": "code",
   "execution_count": 3,
   "id": "ebf5e2bf-86f4-48d9-9a35-a91a943f9028",
   "metadata": {},
   "outputs": [
    {
     "data": {
      "text/plain": [
       "('IPCC 2021',\n",
       " 'climate change: including SLCFs',\n",
       " 'global warming potential (GWP100)')"
      ]
     },
     "execution_count": 3,
     "metadata": {},
     "output_type": "execute_result"
    }
   ],
   "source": [
    "ipcc_methods = [\n",
    "    met\n",
    "    for met in bw.methods\n",
    "    if \"ipcc 2021\" in str(met).lower()\n",
    "    and \"climate change: including SLCFs\" in str(met)\n",
    "    and \"no LT\" not in str(met)\n",
    "    and \"GWP100\" in str(met)\n",
    "    or (\"ipcc 2013\" in str(met).lower() and \"no LT\" not in str(met) and \"GWP100\" in str(met))\n",
    "    # or (\"ipcc 2021\" in str(met).lower() and \"no LT\" not in str(met) and \"GWP100\" in str(met))\n",
    "][1]# [:2]\n",
    "ipcc_methods\n"
   ]
  },
  {
   "cell_type": "code",
   "execution_count": 4,
   "id": "345341b7-e690-4136-aa58-c0c357b91366",
   "metadata": {},
   "outputs": [],
   "source": [
    "DB_NAME = \"GAC_project_db\""
   ]
  },
  {
   "cell_type": "code",
   "execution_count": 5,
   "id": "933ae682-a9fa-4d30-9007-f03a97f29990",
   "metadata": {
    "notebookRunGroups": {
     "groupValue": "1"
    }
   },
   "outputs": [
    {
     "data": {
      "text/plain": [
       "'1-(naphthalen-1-yl)-1H-imidazole production with heterogeneous Cu/PCN catalyst (10.8 wt% Cu)' (kilogram, GLO, None)"
      ]
     },
     "execution_count": 5,
     "metadata": {},
     "output_type": "execute_result"
    }
   ],
   "source": [
    "act_hetero = [\n",
    "    ds\n",
    "    for ds in bw.Database(DB_NAME)\n",
    "    if \"1-(naphthalen-1-yl)-1H-imidazole\" in ds[\"name\"] and \"Cu/PCN\" in ds[\"name\"]\n",
    "][0]\n",
    "act_hetero\n"
   ]
  },
  {
   "cell_type": "code",
   "execution_count": 6,
   "id": "933ae682-a9fa-4d30-9007-f03a97f29990",
   "metadata": {
    "notebookRunGroups": {
     "groupValue": "2"
    }
   },
   "outputs": [
    {
     "data": {
      "text/plain": [
       "'1-(naphthalen-1-yl)-1H-imidazole production with homogeneous Cu2O/Altman-Buchwald-ligand catalytic complex' (kilogram, GLO, None)"
      ]
     },
     "execution_count": 6,
     "metadata": {},
     "output_type": "execute_result"
    }
   ],
   "source": [
    "act_homogen = [\n",
    "    ds\n",
    "    for ds in bw.Database(DB_NAME)\n",
    "    if \"1-(naphthalen-1-yl)-1H-imidazole\" in ds[\"name\"]\n",
    "    and \"Cu2O/Altman-Buchwald-ligand\" in ds[\"name\"]\n",
    "][0]\n",
    "act_homogen\n"
   ]
  },
  {
   "cell_type": "code",
   "execution_count": 7,
   "id": "17f92333-acf9-4ca4-995f-9f11e248b655",
   "metadata": {},
   "outputs": [],
   "source": [
    "# bw.Database(DB_NAME).random()\n",
    "#TODO should be accepting `methods=str`. Correct\n",
    "\n",
    "# prbs.pretty_lca(\n",
    "#     FUs=[{act: 1}],\n",
    "#     methods=ipcc_methods,\n",
    "# )"
   ]
  },
  {
   "cell_type": "markdown",
   "id": "ad610209",
   "metadata": {},
   "source": [
    "### Functions"
   ]
  },
  {
   "cell_type": "code",
   "execution_count": 8,
   "id": "96359b04",
   "metadata": {},
   "outputs": [],
   "source": [
    "def print_recursive_calculation(activity, lcia_method, lca_obj=None, total_score=None, amount=1, level=0, max_level=3, cutoff=1e-2):\n",
    "    \"\"\"\"Taken from https://github.com/brightway-lca/brightway2/blob/master/notebooks/Contribution%20analysis%20and%20comparison.ipynb\"\"\"\n",
    "    if lca_obj is None:\n",
    "        lca_obj = bc.LCA({activity: amount}, lcia_method)\n",
    "        lca_obj.lci()\n",
    "        lca_obj.lcia()\n",
    "        total_score = lca_obj.score\n",
    "    elif total_score is None:\n",
    "        raise ValueError\n",
    "    else:\n",
    "        lca_obj.redo_lcia({activity: amount})\n",
    "        if abs(lca_obj.score) <= abs(total_score * cutoff):\n",
    "            return\n",
    "    print(\"{}{:4.3f} ({:06.4f}): {:.70}\".format(\"  \" * level, lca_obj.score / total_score, lca_obj.score, str(activity)))\n",
    "    if level < max_level:\n",
    "        for exc in activity.technosphere():\n",
    "            print_recursive_calculation(\n",
    "                activity=exc.input, \n",
    "                lcia_method=lcia_method, \n",
    "                lca_obj=lca_obj, \n",
    "                total_score=total_score, \n",
    "                amount=amount * exc['amount'], \n",
    "                level=level + 1, \n",
    "                max_level=max_level, \n",
    "                cutoff=cutoff\n",
    "            )    "
   ]
  },
  {
   "cell_type": "code",
   "execution_count": 9,
   "id": "916c1c18",
   "metadata": {},
   "outputs": [],
   "source": [
    "def get_named_edges(traversed_dict: Dict, act: bd.backends.peewee.Activity) -> List:\n",
    "    rev_activity_dict, _, _ = traversed_dict[\"lca\"].reverse_dict()\n",
    "    named_edges = []\n",
    "    for edge in traversed_dict[\"edges\"]:\n",
    "        named_edge = {\"impact\": edge[\"impact\"]}\n",
    "\n",
    "        act_from = bw.get_activity(rev_activity_dict[edge[\"from\"]])\n",
    "\n",
    "        named_edge[\"from\"] = act_from[\"name\"] # + \" (\" + act_from[\"location\"] + \")\"\n",
    "        if edge[\"to\"] == -1:\n",
    "            named_edge[\"to\"] = act[\"name\"] + \"(start)\"\n",
    "        else:\n",
    "            act_to = bw.get_activity(rev_activity_dict[edge[\"to\"]])\n",
    "            named_edge[\"to\"] = act_to[\"name\"] # + \" (\" + act_to[\"location\"]  + \")\"\n",
    "        named_edges.append(named_edge)\n",
    "    return named_edges\n"
   ]
  },
  {
   "cell_type": "code",
   "execution_count": 10,
   "id": "86da16f5",
   "metadata": {},
   "outputs": [],
   "source": [
    "def prepare_dataframe(lst: List[dict], group: bool = True) -> pd.DataFrame:\n",
    "    to_return = pd.DataFrame(lst)\n",
    "    to_return = to_return[[\"to\", \"from\", \"impact\"]].rename(\n",
    "        columns={\"to\": \"target\", \"from\": \"source\", \"impact\": \"value\"}\n",
    "    )\n",
    "    if group:\n",
    "        to_return = to_return.groupby([\"target\", \"source\"])[\"value\"].sum().reset_index()\n",
    "    return to_return\n"
   ]
  },
  {
   "cell_type": "code",
   "execution_count": 11,
   "id": "19374137",
   "metadata": {},
   "outputs": [],
   "source": [
    "def plot_sankey(\n",
    "    df_links: pd.DataFrame, size: Tuple, save: bool = True, file_name: str = \"test\"\n",
    "):\n",
    "    links = df_links.to_dict(\"records\")\n",
    "    layout = Layout(width=size[0], height=size[1])\n",
    "    sankey = SankeyWidget(\n",
    "        links=links,\n",
    "        linkLabelFormat=\".1f\",\n",
    "        layout=layout,\n",
    "        align_link_types=True,\n",
    "        # margins=dict(top=10, bottom=0, left=250, right=300),\n",
    "    )\n",
    "    if save:\n",
    "        sankey.auto_save_svg(f\"../data/interim/{file_name}.svg\")\n",
    "    return sankey\n"
   ]
  },
  {
   "cell_type": "markdown",
   "id": "4d011371",
   "metadata": {},
   "source": [
    "## Print before Graph Traversal"
   ]
  },
  {
   "cell_type": "code",
   "execution_count": 12,
   "id": "2e24d83d",
   "metadata": {
    "notebookRunGroups": {
     "groupValue": "1"
    }
   },
   "outputs": [
    {
     "name": "stdout",
     "output_type": "stream",
     "text": [
      "1.000 (5.6098): '1-(naphthalen-1-yl)-1H-imidazole production with heterogeneous Cu/PCN\n",
      "  0.386 (2.1631): '1-iodonaphthalene production' (kilogram, GLO, None)\n",
      "    0.386 (2.1631): 'market for naphthalene sulfonic acid' (kilogram, GLO, None)\n",
      "      0.110 (0.6177): 'naphthalene sulfonic acid production' (kilogram, RER, None)\n",
      "      0.260 (1.4611): 'naphthalene sulfonic acid production' (kilogram, RoW, None)\n",
      "  0.487 (2.7300): 'market for imidazole' (kilogram, GLO, None)\n",
      "    0.352 (1.9760): 'imidazole production' (kilogram, RoW, None)\n",
      "      0.034 (0.1892): 'market for ammonia, anhydrous, liquid' (kilogram, CN, None)\n",
      "      0.060 (0.3385): 'market for ammonia, anhydrous, liquid' (kilogram, RoW, None)\n",
      "      0.012 (0.0663): 'market group for electricity, medium voltage' (kilowatt hour, RAS, No\n",
      "      0.031 (0.1711): 'market for formaldehyde' (kilogram, RoW, None)\n",
      "      0.171 (0.9603): 'market for glyoxal' (kilogram, RoW, None)\n",
      "      0.015 (0.0840): 'market for heat, from steam, in chemical industry' (megajoule, RoW, N\n",
      "    0.130 (0.7269): 'imidazole production' (kilogram, RER, None)\n",
      "      0.043 (0.2431): 'market for ammonia, anhydrous, liquid' (kilogram, RER, None)\n",
      "      0.014 (0.0775): 'market for formaldehyde' (kilogram, RER, None)\n",
      "      0.058 (0.3265): 'market for glyoxal' (kilogram, RER, None)\n",
      "  0.072 (0.4027): 'Cu/PCN catalyst production, at 10.8 wt% Cu' (kilogram, GLO, None)\n",
      "    0.059 (0.3308): 'polymeric carbon nitride prodution' (kilogram, GLO, None)\n",
      "      0.056 (0.3168): 'dicyandiamide production' (kilogram, GLO, None)\n",
      "  0.056 (0.3140): 'market for dimethyl sulfoxide' (kilogram, GLO, None)\n",
      "    0.016 (0.0909): 'dimethyl sulfoxide production' (kilogram, RER, None)\n",
      "    0.038 (0.2114): 'dimethyl sulfoxide production' (kilogram, RoW, None)\n",
      "      0.017 (0.0968): 'market for methanol' (kilogram, GLO, None)\n"
     ]
    }
   ],
   "source": [
    "print_recursive_calculation(activity=act_hetero, lcia_method=ipcc_methods)"
   ]
  },
  {
   "cell_type": "code",
   "execution_count": 13,
   "id": "2e24d83d",
   "metadata": {
    "notebookRunGroups": {
     "groupValue": "2"
    }
   },
   "outputs": [
    {
     "name": "stdout",
     "output_type": "stream",
     "text": [
      "1.000 (70.3327): '1-(naphthalen-1-yl)-1H-imidazole production with homogeneous Cu2O/Alt\n",
      "  0.028 (2.0021): '1-iodonaphthalene production' (kilogram, GLO, None)\n",
      "    0.028 (2.0021): 'market for naphthalene sulfonic acid' (kilogram, GLO, None)\n",
      "      0.019 (1.3523): 'naphthalene sulfonic acid production' (kilogram, RoW, None)\n",
      "  0.036 (2.5268): 'market for imidazole' (kilogram, GLO, None)\n",
      "    0.026 (1.8289): 'imidazole production' (kilogram, RoW, None)\n",
      "      0.013 (0.8888): 'market for glyoxal' (kilogram, RoW, None)\n",
      "  0.771 (54.2100): 'Cu2O/Altman-Buchwald-ligand catalytic complex production' (kilogram, \n",
      "    0.767 (53.9492): '4,7-Dimethoxy-1,10-phenanthroline (Altman-Buchwald ligand) production\n",
      "      0.011 (0.8021): 'market for acetic acid, without water, in 98% solution state' (kilogr\n",
      "      0.012 (0.8247): 'market for acetic acid, without water, in 98% solution state' (kilogr\n",
      "      0.544 (38.2841): 'market for trichloromethane' (kilogram, RER, None)\n",
      "      0.016 (1.1572): 'market for aniline' (kilogram, RER, None)\n",
      "      0.032 (2.2780): 'market for acetyl chloride' (kilogram, GLO, None)\n",
      "      0.058 (4.0567): 'market for monochlorobenzene' (kilogram, RER, None)\n",
      "      0.093 (6.5463): 'market for phenol' (kilogram, RER, None)\n",
      "  0.165 (11.5937): 'market for N-methyl-2-pyrrolidone' (kilogram, GLO, None)\n",
      "    0.027 (1.8813): 'N-methyl-2-pyrrolidone production' (kilogram, RER, None)\n",
      "      0.021 (1.4707): 'market for butyrolactone' (kilogram, RER, None)\n",
      "    0.137 (9.6176): 'N-methyl-2-pyrrolidone production' (kilogram, RoW, None)\n",
      "      0.102 (7.1649): 'market for butyrolactone' (kilogram, RoW, None)\n",
      "      0.024 (1.6702): 'market for methylamine' (kilogram, RoW, None)\n"
     ]
    }
   ],
   "source": [
    "print_recursive_calculation(activity=act_homogen, lcia_method=ipcc_methods)"
   ]
  },
  {
   "cell_type": "markdown",
   "id": "78d47983",
   "metadata": {},
   "source": [
    "## Graph Traversal"
   ]
  },
  {
   "cell_type": "markdown",
   "id": "9eeb4d35",
   "metadata": {},
   "source": [
    "### Documentation regarding Graph Traversal\n",
    "\n",
    "```python\n",
    "t = bw.GraphTraversal().calculate(demand={act:1}, method=ipcc_methods[1])\n",
    "t.keys()\n",
    ">>> dict_keys(['nodes', 'edges', 'lca', 'counter'])\n",
    "# ---\n",
    "t[\"nodes\"][-1]\n",
    ">>>  {'amount': 1, 'cum': 9.327382788679612, 'ind': 9.327382788679611e-06}`\n",
    "```\n",
    "\n",
    "from [bw documentation](https://2.docs.brightway.dev/lca.html#graph-traversal):  \n",
    "`t[\"nodes\"]` - dictionary (each node = row index in `A` matrix)\n",
    "- `amount`: The total amount of this node needed to produce the functional unit\n",
    "- `cum`: The cumulative LCA impact score attributable to the needed amount of this node, including its specific supply chain.\n",
    "- `ind`: The individual LCA impact score directly attributable to one unit of this node, i.e. the score from the direct emissions and resource consumption of this node.\n",
    "\n",
    "```python\n",
    "t[\"edges\"][0]\n",
    ">>> {'to': -1,\n",
    " 'from': 21263,\n",
    " 'amount': 1,\n",
    " 'exc_amount': 1,\n",
    " 'impact': 9.327382788679609}\n",
    "```\n",
    "\n",
    "from [bw documentation](https://2.docs.brightway.dev/lca.html#graph-traversal):  \n",
    "``t[\"edges\"]`` - list  \n",
    "- ``to``: The row index of the node consuming the product.\n",
    "- ``from``: The row index of the node producing the product.\n",
    "- ``amount``: The total amount of product from needed for the amount of to needed.\n",
    "- ``exc_amount``: The amount of from needed for one unit of to, i.e. the value given in the technosphere matrix.\n",
    "- ``impact``: The total LCA impact score embodied in this edge, i.e. the individual score of from times amount."
   ]
  },
  {
   "cell_type": "code",
   "execution_count": 14,
   "id": "3fbab094",
   "metadata": {
    "notebookRunGroups": {
     "groupValue": "1"
    }
   },
   "outputs": [
    {
     "name": "stdout",
     "output_type": "stream",
     "text": [
      "Calculated 404 LCAs.\n"
     ]
    }
   ],
   "source": [
    "t_hetero = bw.GraphTraversal().calculate(demand={act_hetero: 1}, method=ipcc_methods, cutoff=0.05)\n",
    "print(f\"Calculated {t_hetero['counter']} LCAs.\")\n",
    "\n",
    "# Named edges in a list\n",
    "ne_hetero = get_named_edges(traversed_dict=t_hetero, act=act_hetero)\n",
    "# Clean dataframe with renamed columns\n",
    "df_hetero = prepare_dataframe(lst=ne_hetero, group=True)\n"
   ]
  },
  {
   "cell_type": "code",
   "execution_count": 15,
   "id": "3fbab094",
   "metadata": {
    "notebookRunGroups": {
     "groupValue": "2"
    }
   },
   "outputs": [
    {
     "name": "stdout",
     "output_type": "stream",
     "text": [
      "Calculated 716 LCAs.\n"
     ]
    }
   ],
   "source": [
    "t_homogen = bw.GraphTraversal().calculate(demand={act_homogen: 1}, method=ipcc_methods, cutoff=0.028)\n",
    "print(f\"Calculated {t_homogen['counter']} LCAs.\")\n",
    "\n",
    "# Named edges in a list\n",
    "ne_homogen = get_named_edges(traversed_dict=t_homogen, act=act_homogen)\n",
    "# Clean dataframe with renamed columns\n",
    "df_homogen = prepare_dataframe(lst=ne_homogen, group=True)\n"
   ]
  },
  {
   "cell_type": "code",
   "execution_count": 16,
   "id": "be16a4e0",
   "metadata": {},
   "outputs": [],
   "source": [
    "# un = ba.GTManipulator().unroll_graph(\n",
    "#     nodes=t_hetero[\"nodes\"], edges=t_hetero[\"edges\"], score=t_hetero[\"nodes\"][-1][\"cum\"]\n",
    "# )\n",
    "\n",
    "# un[0].keys()\n",
    "# un[2]"
   ]
  },
  {
   "cell_type": "code",
   "execution_count": 17,
   "id": "c2f10f11",
   "metadata": {},
   "outputs": [
    {
     "data": {
      "text/plain": [
       "'benzene chlorination'"
      ]
     },
     "execution_count": 17,
     "metadata": {},
     "output_type": "execute_result"
    }
   ],
   "source": [
    "df_homogen[\"target\"][19]"
   ]
  },
  {
   "cell_type": "markdown",
   "id": "7621aa6c",
   "metadata": {},
   "source": [
    "## Plot results"
   ]
  },
  {
   "cell_type": "code",
   "execution_count": 18,
   "id": "c7e56c3c",
   "metadata": {
    "notebookRunGroups": {
     "groupValue": "12"
    }
   },
   "outputs": [
    {
     "data": {
      "text/plain": [
       "('1776.377952777', '453.54330709199996')"
      ]
     },
     "execution_count": 18,
     "metadata": {},
     "output_type": "execute_result"
    }
   ],
   "source": [
    "# Layout size in mm\n",
    "mm_to_px = 3.7795275591\n",
    "\n",
    "w_h_in_mm = (470,120)\n",
    "# w_h_in_mm = (200,70)\n",
    "(w_px, h_px) = str(w_h_in_mm[0]*mm_to_px), str(w_h_in_mm[1]*mm_to_px)\n",
    "(w_px, h_px)"
   ]
  },
  {
   "cell_type": "code",
   "execution_count": 19,
   "id": "d5c957d8",
   "metadata": {
    "notebookRunGroups": {
     "groupValue": "1"
    }
   },
   "outputs": [
    {
     "data": {
      "application/vnd.jupyter.widget-view+json": {
       "model_id": "6e4a99cfc6c043fd81d669958f04caf5",
       "version_major": 2,
       "version_minor": 0
      },
      "text/plain": [
       "SankeyWidget(align_link_types=True, layout=Layout(height='453.54330709199996', width='1776.377952777'), linkLa…"
      ]
     },
     "metadata": {},
     "output_type": "display_data"
    }
   ],
   "source": [
    "plot_sankey(df_links=df_hetero, size=(w_px, h_px), save=True, file_name=\"hetero\")"
   ]
  },
  {
   "cell_type": "code",
   "execution_count": 20,
   "id": "d5c957d8",
   "metadata": {
    "notebookRunGroups": {
     "groupValue": "2"
    }
   },
   "outputs": [
    {
     "data": {
      "application/vnd.jupyter.widget-view+json": {
       "model_id": "f21ba7ac2d084510880042b829b49178",
       "version_major": 2,
       "version_minor": 0
      },
      "text/plain": [
       "SankeyWidget(align_link_types=True, layout=Layout(height='453.54330709199996', width='1776.377952777'), linkLa…"
      ]
     },
     "metadata": {},
     "output_type": "display_data"
    }
   ],
   "source": [
    "plot_sankey(df_links=df_homogen, size=(w_px, h_px), save=True, file_name=\"homogen\")"
   ]
  }
 ],
 "metadata": {
  "kernelspec": {
   "display_name": "Python (bw2)",
   "language": "python",
   "name": "bw2"
  },
  "language_info": {
   "codemirror_mode": {
    "name": "ipython",
    "version": 3
   },
   "file_extension": ".py",
   "mimetype": "text/x-python",
   "name": "python",
   "nbconvert_exporter": "python",
   "pygments_lexer": "ipython3",
   "version": "3.9.7"
  },
  "vscode": {
   "interpreter": {
    "hash": "b4e91f576ab31a886c7ead1b152b07f50ff75ca9d172ac8ff1835c3eab48e21f"
   }
  }
 },
 "nbformat": 4,
 "nbformat_minor": 5
}
