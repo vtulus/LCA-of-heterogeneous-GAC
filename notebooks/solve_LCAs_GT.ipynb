{
 "cells": [
  {
   "cell_type": "code",
   "execution_count": 1,
   "id": "dc075a87-3c79-48c8-a6fb-1b9e21df49f5",
   "metadata": {},
   "outputs": [],
   "source": [
    "import brightway2 as bw\n",
    "\n",
    "# import bw2io\n",
    "import productivity_boosters as prbs\n",
    "\n",
    "# from project_path import ROOT_DIR\n",
    "from pprint import pprint\n",
    "import pandas as pd\n",
    "\n",
    "from dataclasses import dataclass\n",
    "\n",
    "# import bw2data\n",
    "import bw2calc as bc\n",
    "\n",
    "from ipysankeywidget import SankeyWidget\n",
    "from ipywidgets import Layout\n",
    "import bw2analyzer as ba"
   ]
  },
  {
   "cell_type": "code",
   "execution_count": 2,
   "id": "c847b277-050c-4c01-9ac8-f715c3dcd999",
   "metadata": {},
   "outputs": [
    {
     "data": {
      "text/plain": [
       "Databases dictionary with 3 object(s):\n",
       "\tGAC_project_db\n",
       "\tbiosphere3\n",
       "\tei39cutoff"
      ]
     },
     "execution_count": 2,
     "metadata": {},
     "output_type": "execute_result"
    }
   ],
   "source": [
    "bw.projects\n",
    "bw.projects.set_current(\"GAC_project\")\n",
    "bw.databases"
   ]
  },
  {
   "cell_type": "code",
   "execution_count": 3,
   "id": "ebf5e2bf-86f4-48d9-9a35-a91a943f9028",
   "metadata": {},
   "outputs": [
    {
     "data": {
      "text/plain": [
       "('IPCC 2021',\n",
       " 'climate change: including SLCFs',\n",
       " 'global warming potential (GWP100)')"
      ]
     },
     "execution_count": 3,
     "metadata": {},
     "output_type": "execute_result"
    }
   ],
   "source": [
    "ipcc_methods = [\n",
    "    met\n",
    "    for met in bw.methods\n",
    "    if \"ipcc 2021\" in str(met).lower()\n",
    "    and \"climate change: including SLCFs\" in str(met)\n",
    "    and \"no LT\" not in str(met)\n",
    "    and \"GWP100\" in str(met)\n",
    "    or (\"ipcc 2013\" in str(met).lower() and \"no LT\" not in str(met) and \"GWP100\" in str(met))\n",
    "    # or (\"ipcc 2021\" in str(met).lower() and \"no LT\" not in str(met) and \"GWP100\" in str(met))\n",
    "][1]# [:2]\n",
    "ipcc_methods\n"
   ]
  },
  {
   "cell_type": "code",
   "execution_count": 4,
   "id": "345341b7-e690-4136-aa58-c0c357b91366",
   "metadata": {},
   "outputs": [],
   "source": [
    "DB_NAME = \"GAC_project_db\""
   ]
  },
  {
   "cell_type": "code",
   "execution_count": 15,
   "id": "933ae682-a9fa-4d30-9007-f03a97f29990",
   "metadata": {
    "notebookRunGroups": {
     "groupValue": "2"
    }
   },
   "outputs": [
    {
     "data": {
      "text/plain": [
       "'1-(naphthalen-1-yl)-1H-imidazole production with homogeneous Cu2O/Altman-Buchwald-ligand catalytic complex' (kilogram, GLO, None)"
      ]
     },
     "execution_count": 15,
     "metadata": {},
     "output_type": "execute_result"
    }
   ],
   "source": [
    "act = [\n",
    "    ds\n",
    "    for ds in bw.Database(DB_NAME)\n",
    "    # if \"Cu/PCN\" in ds[\"name\"]\n",
    "    # if \"Cu2O/Altman-Buchwald-ligand\" in ds[\"name\"]\n",
    "    # if \"1-(naphthalen-1-yl)-1H-imidazole\" in ds[\"name\"] and \"Cu/PCN\" in ds[\"name\"]\n",
    "    if \"1-(naphthalen-1-yl)-1H-imidazole\" in ds[\"name\"]\n",
    "    and \"Cu2O/Altman-Buchwald-ligand\" in ds[\"name\"]\n",
    "][0]\n",
    "act"
   ]
  },
  {
   "cell_type": "code",
   "execution_count": null,
   "id": "17f92333-acf9-4ca4-995f-9f11e248b655",
   "metadata": {},
   "outputs": [],
   "source": [
    "# bw.Database(DB_NAME).random()\n",
    "#TODO should be accepting `methods=str`. Correct\n",
    "\n",
    "# prbs.pretty_lca(\n",
    "#     FUs=[{act: 1}],\n",
    "#     methods=ipcc_methods,\n",
    "# )"
   ]
  },
  {
   "cell_type": "markdown",
   "id": "4d011371",
   "metadata": {},
   "source": [
    "## Print before Graph Traversal"
   ]
  },
  {
   "cell_type": "code",
   "execution_count": 5,
   "id": "96359b04",
   "metadata": {},
   "outputs": [],
   "source": [
    "def print_recursive_calculation(activity, lcia_method, lca_obj=None, total_score=None, amount=1, level=0, max_level=3, cutoff=1e-2):\n",
    "    \"\"\"\"Taken from https://github.com/brightway-lca/brightway2/blob/master/notebooks/Contribution%20analysis%20and%20comparison.ipynb\"\"\"\n",
    "    if lca_obj is None:\n",
    "        lca_obj = bc.LCA({activity: amount}, lcia_method)\n",
    "        lca_obj.lci()\n",
    "        lca_obj.lcia()\n",
    "        total_score = lca_obj.score\n",
    "    elif total_score is None:\n",
    "        raise ValueError\n",
    "    else:\n",
    "        lca_obj.redo_lcia({activity: amount})\n",
    "        if abs(lca_obj.score) <= abs(total_score * cutoff):\n",
    "            return\n",
    "    print(\"{}{:4.3f} ({:06.4f}): {:.70}\".format(\"  \" * level, lca_obj.score / total_score, lca_obj.score, str(activity)))\n",
    "    if level < max_level:\n",
    "        for exc in activity.technosphere():\n",
    "            print_recursive_calculation(\n",
    "                activity=exc.input, \n",
    "                lcia_method=lcia_method, \n",
    "                lca_obj=lca_obj, \n",
    "                total_score=total_score, \n",
    "                amount=amount * exc['amount'], \n",
    "                level=level + 1, \n",
    "                max_level=max_level, \n",
    "                cutoff=cutoff\n",
    "            )    "
   ]
  },
  {
   "cell_type": "code",
   "execution_count": 16,
   "id": "2e24d83d",
   "metadata": {
    "notebookRunGroups": {
     "groupValue": "2"
    }
   },
   "outputs": [
    {
     "name": "stdout",
     "output_type": "stream",
     "text": [
      "1.000 (70.3327): '1-(naphthalen-1-yl)-1H-imidazole production with homogeneous Cu2O/Alt\n",
      "  0.028 (2.0021): '1-iodonaphthalene production' (kilogram, GLO, None)\n",
      "    0.028 (2.0021): 'market for naphthalene sulfonic acid' (kilogram, GLO, None)\n",
      "      0.019 (1.3523): 'naphthalene sulfonic acid production' (kilogram, RoW, None)\n",
      "  0.036 (2.5268): 'market for imidazole' (kilogram, GLO, None)\n",
      "    0.026 (1.8289): 'imidazole production' (kilogram, RoW, None)\n",
      "      0.013 (0.8888): 'market for glyoxal' (kilogram, RoW, None)\n",
      "  0.771 (54.2100): 'Cu2O/Altman-Buchwald-ligand catalytic complex production' (kilogram, \n",
      "    0.767 (53.9492): '4,7-Dimethoxy-1,10-phenanthroline (Altman-Buchwald ligand) production\n",
      "      0.011 (0.8021): 'market for acetic acid, without water, in 98% solution state' (kilogr\n",
      "      0.012 (0.8247): 'market for acetic acid, without water, in 98% solution state' (kilogr\n",
      "      0.544 (38.2841): 'market for trichloromethane' (kilogram, RER, None)\n",
      "      0.016 (1.1572): 'market for aniline' (kilogram, RER, None)\n",
      "      0.032 (2.2780): 'market for acetyl chloride' (kilogram, GLO, None)\n",
      "      0.058 (4.0567): 'market for monochlorobenzene' (kilogram, RER, None)\n",
      "      0.093 (6.5463): 'market for phenol' (kilogram, RER, None)\n",
      "  0.165 (11.5937): 'market for N-methyl-2-pyrrolidone' (kilogram, GLO, None)\n",
      "    0.027 (1.8813): 'N-methyl-2-pyrrolidone production' (kilogram, RER, None)\n",
      "      0.021 (1.4707): 'market for butyrolactone' (kilogram, RER, None)\n",
      "    0.137 (9.6176): 'N-methyl-2-pyrrolidone production' (kilogram, RoW, None)\n",
      "      0.102 (7.1649): 'market for butyrolactone' (kilogram, RoW, None)\n",
      "      0.024 (1.6702): 'market for methylamine' (kilogram, RoW, None)\n"
     ]
    }
   ],
   "source": [
    "print_recursive_calculation(activity=act, lcia_method=ipcc_methods)"
   ]
  },
  {
   "cell_type": "markdown",
   "id": "78d47983",
   "metadata": {},
   "source": [
    "## Graph Traversal"
   ]
  },
  {
   "cell_type": "markdown",
   "id": "9eeb4d35",
   "metadata": {},
   "source": [
    "### Documentation regarding Graph Traversal\n",
    "\n",
    "```python\n",
    "t = bw.GraphTraversal().calculate(demand={act:1}, method=ipcc_methods[1])\n",
    "t.keys()\n",
    ">>> dict_keys(['nodes', 'edges', 'lca', 'counter'])\n",
    "# ---\n",
    "t[\"nodes\"][-1]\n",
    ">>>  {'amount': 1, 'cum': 9.327382788679612, 'ind': 9.327382788679611e-06}`\n",
    "```\n",
    "\n",
    "from [bw documentation](https://2.docs.brightway.dev/lca.html#graph-traversal):  \n",
    "`t[\"nodes\"]` - dictionary (each node = row index in `A` matrix)\n",
    "- `amount`: The total amount of this node needed to produce the functional unit\n",
    "- `cum`: The cumulative LCA impact score attributable to the needed amount of this node, including its specific supply chain.\n",
    "- `ind`: The individual LCA impact score directly attributable to one unit of this node, i.e. the score from the direct emissions and resource consumption of this node.\n",
    "\n",
    "```python\n",
    "t[\"edges\"][0]\n",
    ">>> {'to': -1,\n",
    " 'from': 21263,\n",
    " 'amount': 1,\n",
    " 'exc_amount': 1,\n",
    " 'impact': 9.327382788679609}\n",
    "```\n",
    "\n",
    "from [bw documentation](https://2.docs.brightway.dev/lca.html#graph-traversal):  \n",
    "``t[\"edges\"]`` - list  \n",
    "- ``to``: The row index of the node consuming the product.\n",
    "- ``from``: The row index of the node producing the product.\n",
    "- ``amount``: The total amount of product from needed for the amount of to needed.\n",
    "- ``exc_amount``: The amount of from needed for one unit of to, i.e. the value given in the technosphere matrix.\n",
    "- ``impact``: The total LCA impact score embodied in this edge, i.e. the individual score of from times amount."
   ]
  },
  {
   "cell_type": "code",
   "execution_count": 17,
   "id": "3fbab094",
   "metadata": {
    "notebookRunGroups": {
     "groupValue": "1"
    }
   },
   "outputs": [
    {
     "name": "stdout",
     "output_type": "stream",
     "text": [
      "Calculated 264 LCAs.\n"
     ]
    }
   ],
   "source": [
    "t = bw.GraphTraversal().calculate(demand={act: 1}, method=ipcc_methods, cutoff=0.07)\n",
    "print(f\"Calculated {t['counter']} LCAs.\")\n"
   ]
  },
  {
   "cell_type": "code",
   "execution_count": null,
   "id": "7392391e",
   "metadata": {},
   "outputs": [],
   "source": [
    "# type(t)\n",
    "# t.keys()\n",
    "# t[\"edges\"][4]\n",
    "# t[\"nodes\"][15996]\n",
    "\n",
    "# t[\"nodes\"][3172]\n",
    "# 2.82*0.51133\n",
    "# t[\"edges\"][2]\n",
    "# t[\"nodes\"].keys()\n",
    "# t[\"nodes\"][3047]"
   ]
  },
  {
   "cell_type": "code",
   "execution_count": 18,
   "id": "3b4e4d78",
   "metadata": {
    "notebookRunGroups": {
     "groupValue": "1"
    }
   },
   "outputs": [],
   "source": [
    "rev_activity_dict, _, _ = t[\"lca\"].reverse_dict()"
   ]
  },
  {
   "cell_type": "code",
   "execution_count": 19,
   "id": "108097c7",
   "metadata": {
    "notebookRunGroups": {
     "groupValue": "1"
    }
   },
   "outputs": [],
   "source": [
    "named_edges = []\n",
    "for edge in t[\"edges\"]:\n",
    "    named_edge = {\"impact\": edge[\"impact\"]}\n",
    "      \n",
    "    act_from = bw.get_activity(rev_activity_dict[edge[\"from\"]])\n",
    "    \n",
    "    named_edge[\"from\"] = act_from[\"name\"] + \" (\" + act_from[\"location\"] + \")\"\n",
    "    if edge[\"to\"] == -1:\n",
    "        named_edge[\"to\"] = act[\"name\"]\n",
    "    else:\n",
    "        act_to = bw.get_activity(rev_activity_dict[edge[\"to\"]]) \n",
    "        named_edge[\"to\"] = act_to[\"name\"] + \" (\" + act_to[\"location\"]  + \")\"\n",
    "    named_edges.append(named_edge)"
   ]
  },
  {
   "cell_type": "code",
   "execution_count": null,
   "id": "be16a4e0",
   "metadata": {},
   "outputs": [],
   "source": [
    "un = ba.GTManipulator().unroll_graph(\n",
    "    nodes=t[\"nodes\"], edges=t[\"edges\"], score=t[\"nodes\"][-1][\"cum\"]\n",
    ")\n",
    "\n",
    "# un[0].keys()\n",
    "# un[2]"
   ]
  },
  {
   "cell_type": "code",
   "execution_count": 20,
   "id": "d2370c23",
   "metadata": {
    "notebookRunGroups": {
     "groupValue": "1"
    }
   },
   "outputs": [],
   "source": [
    "df_gt = pd.DataFrame(named_edges) #t[\"edges\"])\n",
    "df_gt = df_gt[[\"to\", \"from\", \"impact\"]].rename(columns={\"to\": \"target\", \"from\": \"source\", \"impact\": \"value\"})\n",
    "# df_gt"
   ]
  },
  {
   "cell_type": "markdown",
   "id": "7621aa6c",
   "metadata": {},
   "source": [
    "## Plot results"
   ]
  },
  {
   "cell_type": "code",
   "execution_count": 21,
   "id": "75bd4a99",
   "metadata": {
    "notebookRunGroups": {
     "groupValue": "1"
    }
   },
   "outputs": [
    {
     "data": {
      "text/plain": [
       "[{'target': '1-(naphthalen-1-yl)-1H-imidazole production with homogeneous Cu2O/Altman-Buchwald-ligand catalytic complex',\n",
       "  'source': '1-(naphthalen-1-yl)-1H-imidazole production with homogeneous Cu2O/Altman-Buchwald-ligand catalytic complex (GLO)',\n",
       "  'value': 70.33267325953112},\n",
       " {'target': '1-(naphthalen-1-yl)-1H-imidazole production with homogeneous Cu2O/Altman-Buchwald-ligand catalytic complex (GLO)',\n",
       "  'source': 'market for N-methyl-2-pyrrolidone (GLO)',\n",
       "  'value': 11.593745261276785},\n",
       " {'target': '1-(naphthalen-1-yl)-1H-imidazole production with homogeneous Cu2O/Altman-Buchwald-ligand catalytic complex (GLO)',\n",
       "  'source': 'Cu2O/Altman-Buchwald-ligand catalytic complex production (GLO)',\n",
       "  'value': 54.21002041259485},\n",
       " {'target': 'Cu2O/Altman-Buchwald-ligand catalytic complex production (GLO)',\n",
       "  'source': '4,7-Dimethoxy-1,10-phenanthroline (Altman-Buchwald ligand) production (GLO)',\n",
       "  'value': 53.94924772053695},\n",
       " {'target': '4,7-Dimethoxy-1,10-phenanthroline (Altman-Buchwald ligand) production (GLO)',\n",
       "  'source': 'market for trichloromethane (RER)',\n",
       "  'value': 38.284144395530944},\n",
       " {'target': '4,7-Dimethoxy-1,10-phenanthroline (Altman-Buchwald ligand) production (GLO)',\n",
       "  'source': 'market for phenol (RER)',\n",
       "  'value': 6.546292557613065},\n",
       " {'target': 'market for trichloromethane (RER)',\n",
       "  'source': 'trichloromethane production (RER)',\n",
       "  'value': 38.20105289768293},\n",
       " {'target': 'trichloromethane production (RER)',\n",
       "  'source': 'market group for electricity, medium voltage (RER)',\n",
       "  'value': 1.56205984806037},\n",
       " {'target': 'trichloromethane production (RER)',\n",
       "  'source': 'market group for heat, district or industrial, natural gas (RER)',\n",
       "  'value': 5.784491098211068},\n",
       " {'target': 'trichloromethane production (RER)',\n",
       "  'source': 'market for chlorine, liquid (RER)',\n",
       "  'value': 5.032061533561303},\n",
       " {'target': 'market for N-methyl-2-pyrrolidone (GLO)',\n",
       "  'source': 'N-methyl-2-pyrrolidone production (RoW)',\n",
       "  'value': 9.617591207050703},\n",
       " {'target': 'N-methyl-2-pyrrolidone production (RoW)',\n",
       "  'source': 'market group for electricity, medium voltage (RAS)',\n",
       "  'value': 0.3577570556892427},\n",
       " {'target': 'N-methyl-2-pyrrolidone production (RoW)',\n",
       "  'source': 'market for butyrolactone (RoW)',\n",
       "  'value': 7.1649452591291185},\n",
       " {'target': 'market group for electricity, medium voltage (RER)',\n",
       "  'source': 'market group for electricity, medium voltage (Europe without Switzerland)',\n",
       "  'value': 7.299696301357385},\n",
       " {'target': 'market group for heat, district or industrial, natural gas (RER)',\n",
       "  'source': 'market for heat, district or industrial, natural gas (Europe without Switzerland)',\n",
       "  'value': 7.274506212007362},\n",
       " {'target': 'market for heat, district or industrial, natural gas (Europe without Switzerland)',\n",
       "  'source': 'heat production, natural gas, at industrial furnace >100kW (Europe without Switzerland)',\n",
       "  'value': 5.192702087518507},\n",
       " {'target': 'market for butyrolactone (RoW)',\n",
       "  'source': 'dehydrogenation of butan-1,4-diol (RoW)',\n",
       "  'value': 7.094632550072706},\n",
       " {'target': 'dehydrogenation of butan-1,4-diol (RoW)',\n",
       "  'source': 'market group for electricity, medium voltage (RAS)',\n",
       "  'value': 0.27036597499832155},\n",
       " {'target': 'dehydrogenation of butan-1,4-diol (RoW)',\n",
       "  'source': 'market for butane-1,4-diol (GLO)',\n",
       "  'value': 6.54389068459958},\n",
       " {'target': 'market for butane-1,4-diol (GLO)',\n",
       "  'source': 'butane-1,4-diol production (RoW)',\n",
       "  'value': 5.74969840278988},\n",
       " {'target': 'market for phenol (RER)',\n",
       "  'source': 'phenol production, from cumene (RER)',\n",
       "  'value': 6.487360003340974},\n",
       " {'target': 'phenol production, from cumene (RER)',\n",
       "  'source': 'market group for electricity, medium voltage (RER)',\n",
       "  'value': 0.24304399289716844},\n",
       " {'target': 'phenol production, from cumene (RER)',\n",
       "  'source': 'market for cumene (GLO)',\n",
       "  'value': 5.562945645524365},\n",
       " {'target': 'phenol production, from cumene (RER)',\n",
       "  'source': 'market group for heat, district or industrial, natural gas (RER)',\n",
       "  'value': 0.19763514767268306},\n",
       " {'target': 'butane-1,4-diol production (RoW)',\n",
       "  'source': 'market group for electricity, medium voltage (RAS)',\n",
       "  'value': 0.25891430218873085},\n",
       " {'target': 'market for chlorine, liquid (RER)',\n",
       "  'source': 'chlorine production, liquid (RER)',\n",
       "  'value': 5.647556690804238},\n",
       " {'target': 'chlorine production, liquid (RER)',\n",
       "  'source': 'market group for electricity, medium voltage (RER)',\n",
       "  'value': 0.23771173117346187},\n",
       " {'target': 'chlorine production, liquid (RER)',\n",
       "  'source': 'market for chlorine, gaseous (RER)',\n",
       "  'value': 5.40984495963078}]"
      ]
     },
     "execution_count": 21,
     "metadata": {},
     "output_type": "execute_result"
    }
   ],
   "source": [
    "links = df_gt.to_dict(\"records\")\n",
    "links\n"
   ]
  },
  {
   "cell_type": "code",
   "execution_count": 22,
   "id": "c7e56c3c",
   "metadata": {
    "notebookRunGroups": {
     "groupValue": "1"
    }
   },
   "outputs": [
    {
     "data": {
      "text/plain": [
       "('680.314960638', '207.8740157505')"
      ]
     },
     "execution_count": 22,
     "metadata": {},
     "output_type": "execute_result"
    }
   ],
   "source": [
    "# Layout size in mm\n",
    "mm_to_px = 3.7795275591\n",
    "\n",
    "w_h_in_mm = (180, 55)\n",
    "(w_px, h_px) = str(w_h_in_mm[0]*mm_to_px), str(w_h_in_mm[1]*mm_to_px)\n",
    "(w_px, h_px)"
   ]
  },
  {
   "cell_type": "code",
   "execution_count": 23,
   "id": "0629b139",
   "metadata": {
    "notebookRunGroups": {
     "groupValue": "1"
    }
   },
   "outputs": [
    {
     "data": {
      "application/vnd.jupyter.widget-view+json": {
       "model_id": "a8f7bec3d3aa421db564f5d380121771",
       "version_major": 2,
       "version_minor": 0
      },
      "text/plain": [
       "SankeyWidget(align_link_types=True, layout=Layout(height='207.8740157505', width='680.314960638'), linkLabelFo…"
      ]
     },
     "metadata": {},
     "output_type": "display_data"
    }
   ],
   "source": [
    "layout = Layout(width=w_px, height=h_px)\n",
    "SankeyWidget(\n",
    "    links=links,\n",
    "    linkLabelFormat='.1f',\n",
    "    layout=layout,\n",
    "    align_link_types=True,\n",
    "    # margins=dict(top=10, bottom=0, left=250, right=300),\n",
    ").auto_save_svg('../data/interim/test.svg')"
   ]
  }
 ],
 "metadata": {
  "kernelspec": {
   "display_name": "Python 3.9.7",
   "language": "python",
   "name": "python3"
  },
  "language_info": {
   "codemirror_mode": {
    "name": "ipython",
    "version": 3
   },
   "file_extension": ".py",
   "mimetype": "text/x-python",
   "name": "python",
   "nbconvert_exporter": "python",
   "pygments_lexer": "ipython3",
   "version": "3.9.7"
  },
  "vscode": {
   "interpreter": {
    "hash": "bd958e837233136b65ef886a306db27124b4a48f9a20f2930a4727b08bf88f0b"
   }
  }
 },
 "nbformat": 4,
 "nbformat_minor": 5
}
