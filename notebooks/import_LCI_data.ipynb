{
 "cells": [
  {
   "cell_type": "code",
   "execution_count": 1,
   "id": "dc075a87-3c79-48c8-a6fb-1b9e21df49f5",
   "metadata": {},
   "outputs": [],
   "source": [
    "import brightway2 as bw\n",
    "import bw2io\n",
    "import productivity_boosters as prbs\n",
    "from project_path import ROOT_DIR"
   ]
  },
  {
   "cell_type": "code",
   "execution_count": 2,
   "id": "c847b277-050c-4c01-9ac8-f715c3dcd999",
   "metadata": {},
   "outputs": [],
   "source": [
    "bw.projects\n",
    "bw.projects.set_current(\"GAC_project\")"
   ]
  },
  {
   "cell_type": "code",
   "execution_count": 3,
   "id": "0e3979c0-10c9-490a-859a-4cd2a0e76007",
   "metadata": {},
   "outputs": [
    {
     "name": "stdout",
     "output_type": "stream",
     "text": [
      "Biosphere database already present!!! No setup is needed\n"
     ]
    }
   ],
   "source": [
    "bw.bw2setup()"
   ]
  },
  {
   "cell_type": "code",
   "execution_count": 4,
   "id": "f898ed57-189d-4163-a908-29c5a02e775f",
   "metadata": {},
   "outputs": [
    {
     "name": "stdout",
     "output_type": "stream",
     "text": [
      "The database is already present! No import needed.\n"
     ]
    }
   ],
   "source": [
    "prbs.import_ei_database(\n",
    "    dirpath=Path(\n",
    "        str(Path(ROOT_DIR).parent)\n",
    "        + r\"\\bw2Hub\\data\\external\\ecoinvent\\v39\\ecoinvent 3.9_cutoff_ecoSpold02\\datasets\"\n",
    "    ),\n",
    "    db_name=\"ei39cutoff\",\n",
    ")"
   ]
  },
  {
   "cell_type": "code",
   "execution_count": 5,
   "id": "8af12383-936b-43bb-82ce-3a6bdb1a0d52",
   "metadata": {},
   "outputs": [
    {
     "data": {
      "text/plain": [
       "Databases dictionary with 2 object(s):\n",
       "\tbiosphere3\n",
       "\tei39cutoff"
      ]
     },
     "execution_count": 5,
     "metadata": {},
     "output_type": "execute_result"
    }
   ],
   "source": [
    "bw.databases"
   ]
  },
  {
   "cell_type": "code",
   "execution_count": 6,
   "id": "8c1c495a-1b50-4794-981f-3e1a85ca445d",
   "metadata": {},
   "outputs": [
    {
     "name": "stdout",
     "output_type": "stream",
     "text": [
      "Extracted 3 worksheets in 0.06 seconds\n",
      "\n",
      "Importing database: GAC_project_db\n"
     ]
    },
    {
     "data": {
      "text/plain": [
       "'This database contains the activities related to the GAC heterogeneous catalyst (Cu/PCN) vs homogeneous (Cu2O/Ligand) catalyst performance comparison.'"
      ]
     },
     "execution_count": 6,
     "metadata": {},
     "output_type": "execute_result"
    }
   ],
   "source": [
    "FOREGROUND_DBS_PATH = Path(ROOT_DIR + r\"\\data\\interim\\foreground_dbs.xlsx\")\n",
    "fdbs = bw2io.importers.ExcelImporter(FOREGROUND_DBS_PATH)\n",
    "print(f\"\\nImporting database: {fdbs.db_name}\")\n",
    "fdbs.metadata[\"description\"]"
   ]
  },
  {
   "cell_type": "raw",
   "id": "bfcee97d-5f5a-458c-a58c-b8364ee74f86",
   "metadata": {},
   "source": [
    "for u in fdbs.unlinked:\n",
    "    print(u)"
   ]
  },
  {
   "cell_type": "code",
   "execution_count": 7,
   "id": "5a6d983a-96f9-4925-aea7-bb7613c2aadc",
   "metadata": {},
   "outputs": [
    {
     "name": "stdout",
     "output_type": "stream",
     "text": [
      "Applying strategy: csv_restore_tuples\n",
      "Applying strategy: csv_restore_booleans\n",
      "Applying strategy: csv_numerize\n",
      "Applying strategy: csv_drop_unknown\n",
      "Applying strategy: csv_add_missing_exchanges_section\n",
      "Applying strategy: normalize_units\n",
      "Applying strategy: normalize_biosphere_categories\n",
      "Applying strategy: normalize_biosphere_names\n",
      "Applying strategy: strip_biosphere_exc_locations\n",
      "Applying strategy: set_code_by_activity_hash\n",
      "Applying strategy: link_iterable_by_fields\n",
      "Applying strategy: assign_only_product_as_production\n",
      "Applying strategy: link_technosphere_by_activity_hash\n",
      "Applying strategy: drop_falsey_uncertainty_fields_but_keep_zeros\n",
      "Applying strategy: convert_uncertainty_types_to_integers\n",
      "Applying strategy: convert_activity_parameters_to_list\n",
      "Applied 16 strategies in 20.96 seconds\n",
      "Applying strategy: link_iterable_by_fields\n",
      "Applying strategy: link_iterable_by_fields\n",
      "11 datasets\n",
      "44 exchanges\n",
      "0 unlinked exchanges\n",
      "  \n"
     ]
    },
    {
     "data": {
      "text/plain": [
       "(11, 44, 0)"
      ]
     },
     "execution_count": 7,
     "metadata": {},
     "output_type": "execute_result"
    }
   ],
   "source": [
    "fdbs.apply_strategies()\n",
    "fdbs.match_database(db_name=\"ei39cutoff\")\n",
    "fdbs.match_database(db_name=\"biosphere3\")\n",
    "fdbs.statistics()"
   ]
  },
  {
   "cell_type": "code",
   "execution_count": 8,
   "id": "81501b96-ff93-4f92-a6ab-d9f87072cffd",
   "metadata": {},
   "outputs": [
    {
     "name": "stderr",
     "output_type": "stream",
     "text": [
      "Writing activities to SQLite3 database:\n",
      "0% [###########] 100% | ETA: 00:00:00\n",
      "Total time elapsed: 00:00:00\n"
     ]
    },
    {
     "name": "stdout",
     "output_type": "stream",
     "text": [
      "Title: Writing activities to SQLite3 database:\n",
      "  Started: 11/06/2022 18:29:08\n",
      "  Finished: 11/06/2022 18:29:08\n",
      "  Total time elapsed: 00:00:00\n",
      "  CPU %: 50.40\n",
      "  Memory %: 1.30\n",
      "Created database: GAC_project_db\n"
     ]
    }
   ],
   "source": [
    "# if no unlinked activities, write database to disk\n",
    "if list(fdbs.unlinked):\n",
    "    list(fdbs.unlinked)\n",
    "else:\n",
    "    fdbs.write_database()"
   ]
  },
  {
   "cell_type": "code",
   "execution_count": 9,
   "id": "f1fc47da-3281-4a99-a341-6c9604614372",
   "metadata": {},
   "outputs": [
    {
     "data": {
      "text/plain": [
       "Databases dictionary with 3 object(s):\n",
       "\tGAC_project_db\n",
       "\tbiosphere3\n",
       "\tei39cutoff"
      ]
     },
     "execution_count": 9,
     "metadata": {},
     "output_type": "execute_result"
    }
   ],
   "source": [
    "bw.databases"
   ]
  },
  {
   "cell_type": "code",
   "execution_count": 10,
   "id": "bacd93bc",
   "metadata": {},
   "outputs": [],
   "source": [
    "# del bw.databases[\"GAC_project_db\"]"
   ]
  },
  {
   "cell_type": "markdown",
   "id": "966c1b74",
   "metadata": {},
   "source": [
    "### Export valid lci database to excel (this file will be shared)"
   ]
  },
  {
   "cell_type": "code",
   "execution_count": null,
   "id": "9f58785d",
   "metadata": {},
   "outputs": [],
   "source": [
    "# bw2io.export.write_lci_excel(database_name=\"GAC_project_db\")"
   ]
  },
  {
   "cell_type": "code",
   "execution_count": null,
   "id": "c06d946c",
   "metadata": {},
   "outputs": [],
   "source": []
  }
 ],
 "metadata": {
  "kernelspec": {
   "display_name": "Python (bw2)",
   "language": "python",
   "name": "bw2"
  },
  "language_info": {
   "codemirror_mode": {
    "name": "ipython",
    "version": 3
   },
   "file_extension": ".py",
   "mimetype": "text/x-python",
   "name": "python",
   "nbconvert_exporter": "python",
   "pygments_lexer": "ipython3",
   "version": "3.9.7"
  }
 },
 "nbformat": 4,
 "nbformat_minor": 5
}
