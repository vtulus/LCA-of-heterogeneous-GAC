{
 "cells": [
  {
   "cell_type": "code",
   "execution_count": 2,
   "id": "dc075a87-3c79-48c8-a6fb-1b9e21df49f5",
   "metadata": {},
   "outputs": [],
   "source": [
    "import brightway2 as bw\n",
    "import bw2io\n",
    "import productivity_boosters as prbs\n",
    "\n",
    "from project_path import ROOT_DIR\n",
    "from pprint import pprint\n",
    "import pandas as pd\n",
    "\n",
    "# from dataclasses import dataclass\n",
    "\n",
    "# import bw2data\n",
    "\n",
    "# import math\n",
    "import numpy as np\n",
    "import matplotlib as mpl\n",
    "import matplotlib.pyplot as plt\n",
    "\n",
    "from pathlib import Path\n",
    "from os import mkdir\n",
    "\n",
    "import openpyxl as xl\n",
    "import textwrap\n",
    "from matplotlib.ticker import (\n",
    "    MultipleLocator,\n",
    "    # ScalarFormatter,\n",
    "    FixedLocator,\n",
    "    # FixedFormatter,\n",
    "    # NullFormatter,\n",
    ")\n",
    "\n",
    "plt.style.use(\"default\")\n"
   ]
  },
  {
   "cell_type": "code",
   "execution_count": 3,
   "id": "c847b277-050c-4c01-9ac8-f715c3dcd999",
   "metadata": {},
   "outputs": [
    {
     "data": {
      "text/plain": [
       "Brightway2 projects manager with 14 objects:\n",
       "\tGAC_project\n",
       "\tSsbD_case_studies\n",
       "\taachen_fast_calculations\n",
       "\tcheck_PBsmethod\n",
       "\tdefault\n",
       "\tdouble_count_electricity\n",
       "\tgeminal_atom_catalysts\n",
       "\tgeminal_atom_catalysts_v2\n",
       "\tpremise_scenarios_ei35\n",
       "\tpremisified_scenarios\n",
       "\tpremisified_scenarios_cars\n",
       "\tsupply chain graph\n",
       "\ttest\n",
       "\ttrial-SimaPro-import-DME-trucks\n",
       "Use `projects.report()` to get a report on all projects."
      ]
     },
     "execution_count": 3,
     "metadata": {},
     "output_type": "execute_result"
    }
   ],
   "source": [
    "bw.projects"
   ]
  },
  {
   "cell_type": "code",
   "execution_count": 4,
   "id": "9b0804bf-76d6-4746-a961-3121684486fc",
   "metadata": {},
   "outputs": [
    {
     "data": {
      "text/plain": [
       "Databases dictionary with 3 object(s):\n",
       "\tGAC_project_db\n",
       "\tbiosphere3\n",
       "\tei39cutoff"
      ]
     },
     "execution_count": 4,
     "metadata": {},
     "output_type": "execute_result"
    }
   ],
   "source": [
    "bw.projects.set_current(\"GAC_project\")\n",
    "bw.databases"
   ]
  },
  {
   "cell_type": "code",
   "execution_count": 5,
   "id": "ebf5e2bf-86f4-48d9-9a35-a91a943f9028",
   "metadata": {},
   "outputs": [
    {
     "data": {
      "text/plain": [
       "('IPCC 2021',\n",
       " 'climate change: including SLCFs',\n",
       " 'global warming potential (GWP100)')"
      ]
     },
     "execution_count": 5,
     "metadata": {},
     "output_type": "execute_result"
    }
   ],
   "source": [
    "ipcc_methods = [\n",
    "    met\n",
    "    for met in bw.methods\n",
    "    if \"ipcc 2021\" in str(met).lower()\n",
    "    and \"climate change: including SLCFs\" in str(met)\n",
    "    and \"no LT\" not in str(met)\n",
    "    and \"GWP100\" in str(met)\n",
    "    or (\"ipcc 2013\" in str(met).lower() and \"no LT\" not in str(met) and \"GWP100\" in str(met))\n",
    "    # or (\"ipcc 2021\" in str(met).lower() and \"no LT\" not in str(met) and \"GWP100\" in str(met))\n",
    "][1]# [:2]\n",
    "ipcc_methods\n"
   ]
  },
  {
   "cell_type": "code",
   "execution_count": 6,
   "id": "345341b7-e690-4136-aa58-c0c357b91366",
   "metadata": {},
   "outputs": [],
   "source": [
    "DB_NAME = \"GAC_project_db\""
   ]
  },
  {
   "cell_type": "code",
   "execution_count": 7,
   "id": "933ae682-a9fa-4d30-9007-f03a97f29990",
   "metadata": {},
   "outputs": [
    {
     "data": {
      "text/plain": [
       "'1-(naphthalen-1-yl)-1H-imidazole production with heterogeneous Cu/PCN catalyst (10.8 wt% Cu)' (kilogram, GLO, None)"
      ]
     },
     "execution_count": 7,
     "metadata": {},
     "output_type": "execute_result"
    }
   ],
   "source": [
    "act = [\n",
    "    ds\n",
    "    for ds in bw.Database(DB_NAME)\n",
    "    # if \"Cu/PCN\" in ds[\"name\"]\n",
    "    # if \"Cu2O/Altman-Buchwald-ligand\" in ds[\"name\"]\n",
    "    if \"1-(naphthalen-1-yl)-1H-imidazole\" in ds[\"name\"] and \"Cu/PCN\" in ds[\"name\"]\n",
    "    # if \"1-(naphthalen-1-yl)-1H-imidazole\" in ds[\"name\"]\n",
    "    # and \"Cu2O/Altman-Buchwald-ligand\" in ds[\"name\"]\n",
    "][0]\n",
    "act"
   ]
  },
  {
   "cell_type": "code",
   "execution_count": 8,
   "id": "7be1da1e",
   "metadata": {},
   "outputs": [
    {
     "data": {
      "text/plain": [
       "'1-(naphthalen-1-yl)-1H-imidazole production with heterogeneous Cu/PCN catalyst (10.8 wt% Cu)' (kilogram, GLO, None)"
      ]
     },
     "execution_count": 8,
     "metadata": {},
     "output_type": "execute_result"
    }
   ],
   "source": [
    "hetero_system = [\n",
    "    ds\n",
    "    for ds in bw.Database(DB_NAME)\n",
    "    if \"1-(naphthalen-1-yl)-1H-imidazole\" in ds[\"name\"] and \"Cu/PCN\" in ds[\"name\"]\n",
    "][0]\n",
    "hetero_system"
   ]
  },
  {
   "cell_type": "code",
   "execution_count": 9,
   "id": "8af8420f",
   "metadata": {},
   "outputs": [
    {
     "data": {
      "text/plain": [
       "'1-(naphthalen-1-yl)-1H-imidazole production with homogeneous Cu2O/Altman-Buchwald-ligand catalytic complex' (kilogram, GLO, None)"
      ]
     },
     "execution_count": 9,
     "metadata": {},
     "output_type": "execute_result"
    }
   ],
   "source": [
    "homoge_system = [\n",
    "    ds\n",
    "    for ds in bw.Database(DB_NAME)\n",
    "    if \"1-(naphthalen-1-yl)-1H-imidazole\" in ds[\"name\"]\n",
    "    and \"Cu2O/Altman-Buchwald-ligand\" in ds[\"name\"]\n",
    "][0]\n",
    "homoge_system"
   ]
  },
  {
   "cell_type": "code",
   "execution_count": 10,
   "id": "fc030a43",
   "metadata": {},
   "outputs": [
    {
     "data": {
      "text/plain": [
       "CalculationSetups dictionary with 5 object(s):\n",
       "\tcatalysts_only\n",
       "\tcontrib\n",
       "\tsolveLCA\n",
       "\tsolveLCA_scenarios\n",
       "\ttrial"
      ]
     },
     "execution_count": 10,
     "metadata": {},
     "output_type": "execute_result"
    }
   ],
   "source": [
    "bw.calculation_setups"
   ]
  },
  {
   "cell_type": "code",
   "execution_count": 11,
   "id": "e809aeb7",
   "metadata": {},
   "outputs": [
    {
     "name": "stdout",
     "output_type": "stream",
     "text": [
      "Duration: 0:00:00.968985\n"
     ]
    }
   ],
   "source": [
    "result = prbs.pretty_lca(FUs=[{hetero_system: 1}, {homoge_system: 1}], methods=[ipcc_methods], setup_name=\"solveLCA\")"
   ]
  },
  {
   "cell_type": "code",
   "execution_count": 12,
   "id": "7a719be0",
   "metadata": {},
   "outputs": [
    {
     "data": {
      "text/html": [
       "<div>\n",
       "<style scoped>\n",
       "    .dataframe tbody tr th:only-of-type {\n",
       "        vertical-align: middle;\n",
       "    }\n",
       "\n",
       "    .dataframe tbody tr th {\n",
       "        vertical-align: top;\n",
       "    }\n",
       "\n",
       "    .dataframe thead th {\n",
       "        text-align: right;\n",
       "    }\n",
       "</style>\n",
       "<table border=\"1\" class=\"dataframe\">\n",
       "  <thead>\n",
       "    <tr style=\"text-align: right;\">\n",
       "      <th></th>\n",
       "      <th>database</th>\n",
       "      <th>activity name</th>\n",
       "      <th>reference product</th>\n",
       "      <th>unit</th>\n",
       "      <th>location</th>\n",
       "      <th>IPCC 2021 - climate change: including SLCFs - global warming potential (GWP100) (kg CO2-Eq)</th>\n",
       "    </tr>\n",
       "  </thead>\n",
       "  <tbody>\n",
       "    <tr>\n",
       "      <th>0</th>\n",
       "      <td>GAC_project_db</td>\n",
       "      <td>1-(naphthalen-1-yl)-1H-imidazole production wi...</td>\n",
       "      <td>1-(naphthalen-1-yl)-1H-imidazole</td>\n",
       "      <td>kilogram</td>\n",
       "      <td>GLO</td>\n",
       "      <td>5.609766</td>\n",
       "    </tr>\n",
       "    <tr>\n",
       "      <th>1</th>\n",
       "      <td>GAC_project_db</td>\n",
       "      <td>1-(naphthalen-1-yl)-1H-imidazole production wi...</td>\n",
       "      <td>1-(naphthalen-1-yl)-1H-imidazole</td>\n",
       "      <td>kilogram</td>\n",
       "      <td>GLO</td>\n",
       "      <td>70.332673</td>\n",
       "    </tr>\n",
       "  </tbody>\n",
       "</table>\n",
       "</div>"
      ],
      "text/plain": [
       "         database                                      activity name  \\\n",
       "0  GAC_project_db  1-(naphthalen-1-yl)-1H-imidazole production wi...   \n",
       "1  GAC_project_db  1-(naphthalen-1-yl)-1H-imidazole production wi...   \n",
       "\n",
       "                  reference product      unit location  \\\n",
       "0  1-(naphthalen-1-yl)-1H-imidazole  kilogram      GLO   \n",
       "1  1-(naphthalen-1-yl)-1H-imidazole  kilogram      GLO   \n",
       "\n",
       "   IPCC 2021 - climate change: including SLCFs - global warming potential (GWP100) (kg CO2-Eq)  \n",
       "0                                           5.609766                                            \n",
       "1                                          70.332673                                            "
      ]
     },
     "execution_count": 12,
     "metadata": {},
     "output_type": "execute_result"
    }
   ],
   "source": [
    "result"
   ]
  },
  {
   "cell_type": "code",
   "execution_count": 13,
   "id": "784f7c0a",
   "metadata": {},
   "outputs": [
    {
     "name": "stderr",
     "output_type": "stream",
     "text": [
      "C:\\Users\\vtulus\\AppData\\Local\\Temp\\ipykernel_3456\\1628839750.py:2: SettingWithCopyWarning: \n",
      "A value is trying to be set on a copy of a slice from a DataFrame.\n",
      "Try using .loc[row_indexer,col_indexer] = value instead\n",
      "\n",
      "See the caveats in the documentation: https://pandas.pydata.org/pandas-docs/stable/user_guide/indexing.html#returning-a-view-versus-a-copy\n",
      "  result_plot[\"activity name\"] = result_plot[\"activity name\"].replace({result_plot[\"activity name\"][0]: \"heterogeneous\", result_plot[\"activity name\"][1]: \"homogeneous\"})\n"
     ]
    },
    {
     "data": {
      "text/html": [
       "<div>\n",
       "<style scoped>\n",
       "    .dataframe tbody tr th:only-of-type {\n",
       "        vertical-align: middle;\n",
       "    }\n",
       "\n",
       "    .dataframe tbody tr th {\n",
       "        vertical-align: top;\n",
       "    }\n",
       "\n",
       "    .dataframe thead th {\n",
       "        text-align: right;\n",
       "    }\n",
       "</style>\n",
       "<table border=\"1\" class=\"dataframe\">\n",
       "  <thead>\n",
       "    <tr style=\"text-align: right;\">\n",
       "      <th></th>\n",
       "      <th>activity name</th>\n",
       "      <th>IPCC 2021 - climate change: including SLCFs - global warming potential (GWP100) (kg CO2-Eq)</th>\n",
       "    </tr>\n",
       "  </thead>\n",
       "  <tbody>\n",
       "    <tr>\n",
       "      <th>0</th>\n",
       "      <td>heterogeneous</td>\n",
       "      <td>5.609766</td>\n",
       "    </tr>\n",
       "    <tr>\n",
       "      <th>1</th>\n",
       "      <td>homogeneous</td>\n",
       "      <td>70.332673</td>\n",
       "    </tr>\n",
       "  </tbody>\n",
       "</table>\n",
       "</div>"
      ],
      "text/plain": [
       "   activity name  \\\n",
       "0  heterogeneous   \n",
       "1    homogeneous   \n",
       "\n",
       "   IPCC 2021 - climate change: including SLCFs - global warming potential (GWP100) (kg CO2-Eq)  \n",
       "0                                           5.609766                                            \n",
       "1                                          70.332673                                            "
      ]
     },
     "execution_count": 13,
     "metadata": {},
     "output_type": "execute_result"
    }
   ],
   "source": [
    "result_plot = result.iloc[:,[1, 5]]\n",
    "result_plot[\"activity name\"] = result_plot[\"activity name\"].replace({result_plot[\"activity name\"][0]: \"heterogeneous\", result_plot[\"activity name\"][1]: \"homogeneous\"})\n",
    "result_plot"
   ]
  },
  {
   "cell_type": "code",
   "execution_count": 14,
   "id": "a33f6c18",
   "metadata": {},
   "outputs": [],
   "source": [
    "pngFilesDir = Path(ROOT_DIR, r\"data/interim/png_files\") # full path to folder w/png files\n",
    "svgFilesDir = Path(ROOT_DIR, r\"data/interim/svg_files\") # full path to folder w/svg files\n",
    "\n",
    "# Generate required folders if needed\n",
    "if not Path.exists(pngFilesDir):\n",
    "    mkdir(pngFilesDir)\n",
    "if not Path.exists(svgFilesDir):\n",
    "    mkdir(svgFilesDir)"
   ]
  },
  {
   "cell_type": "markdown",
   "id": "58a7d8f3",
   "metadata": {},
   "source": [
    "Preliminary colors:<br>\n",
    "\n",
    "<b style=\"background-color: #ef8a62;\">heterogeneous</b><br>  \n",
    "<b style=\"background-color: #67a9cf;\">homogeneous</b><br>\n",
    "\n"
   ]
  },
  {
   "cell_type": "code",
   "execution_count": 15,
   "id": "05c1ea13",
   "metadata": {},
   "outputs": [],
   "source": [
    "## BAR CHART colors\n",
    "\n",
    "allcolors = {\n",
    "    \"heterogeneous\": \"#ef8a62\",\n",
    "    \"homogeneous\": \"#67a9cf\",\n",
    "}\n"
   ]
  },
  {
   "cell_type": "code",
   "execution_count": 16,
   "id": "29f29ae7",
   "metadata": {},
   "outputs": [],
   "source": [
    "# function to add value labels\n",
    "def addlabels(x,y):\n",
    "    for i in range(len(y)):\n",
    "        plt.text(i, x[i], x[i], ha = 'center')"
   ]
  },
  {
   "cell_type": "code",
   "execution_count": 20,
   "id": "0ace9627",
   "metadata": {},
   "outputs": [
    {
     "name": "stderr",
     "output_type": "stream",
     "text": [
      "C:\\Users\\vtulus\\AppData\\Local\\Temp\\ipykernel_3456\\315537017.py:41: UserWarning: FixedFormatter should only be used together with FixedLocator\n",
      "  ax.yaxis.set_ticklabels(result_plot[\"activity name\"], rotation=-90, va=\"center\")\n"
     ]
    },
    {
     "data": {
      "image/png": "[encoded data removed]",
      "text/plain": [
       "<Figure size 590.551x1299.21 with 1 Axes>"
      ]
     },
     "metadata": {},
     "output_type": "display_data"
    }
   ],
   "source": [
    "# Plot\n",
    "\n",
    "# Figure specifications (fonts, sizes, figsize, etc.)\n",
    "size_legend_font = 8\n",
    "size_tick_font = 6\n",
    "size_label_font = 7\n",
    "mpl.rc(\"xtick\", labelsize=size_tick_font)\n",
    "mpl.rc(\"ytick\", labelsize=size_tick_font)\n",
    "mpl.rc(\"axes\", labelsize=size_label_font, linewidth=0.6)\n",
    "mpl.rc(\"font\", family=\"Arial\")\n",
    "# mpl.rc('text', usetex=True) # no LaTex on this machine\n",
    "mpl.rc(\"mathtext\", default=\"regular\")\n",
    "# mpl.rc('lines', )\n",
    "# mpl.rc('markers', )\n",
    "marker_style = dict(lw=0, marker=\"D\", ms=1.5, mec=\"r\", mfc=\"none\", mew=0.7)\n",
    "\n",
    "# Size of the figure\n",
    "size_in_mm = (50, 110)  # input the desired size in mm (width, height)\n",
    "fig, ax = plt.subplots(\n",
    "    nrows=1,\n",
    "    ncols=1,\n",
    "    figsize=[x / 25.4 for x in size_in_mm],\n",
    "    dpi=300,\n",
    "    sharey=True,\n",
    "    # tight_layout = {'pad': 0}\n",
    ")\n",
    "\n",
    "## BAR CHART ################################################################\n",
    "height = 0.8  # the height of the bars (thickness)\n",
    "bars = ax.barh(\n",
    "    y=result_plot.iloc[:, 0],\n",
    "    width=result_plot.iloc[:, 1],\n",
    "    height=height,\n",
    "    color=[v for v in allcolors.values()],\n",
    "    edgecolor=\"k\",\n",
    "    linewidth=0.3,\n",
    ")\n",
    "\n",
    "ax.bar_label(bars, fmt=\"%.1f\", padding=-7, fontsize=5)\n",
    "\n",
    "ax.yaxis.set_ticklabels(result_plot[\"activity name\"], rotation=-90, va=\"center\")\n",
    "ax.tick_params(axis='y', which='major', length=0.001, pad=-118) # almost invisible, pad = separation of text from axis\n",
    "\n",
    "ax.set_xlabel(\"GWP100 ($kg_{CO_{2}eq} kg^{-1}$)\")\n",
    "ax.grid(True)\n",
    "ax.xaxis.grid(True, ls=':', lw=0.3)\n",
    "ax.yaxis.grid(True, ls=':', lw=0.3)\n",
    "ax.xaxis.set_minor_locator(MultipleLocator(5))\n",
    "ax.xaxis.set_major_locator(MultipleLocator(20))\n",
    "ax.set_axisbelow(True)\n",
    "\n",
    "# # LEGEND\n",
    "# handles, labels = ax.get_legend_handles_labels()\n",
    "# fig.legend(handles, labels,\n",
    "#            frameon=True, loc='upper left',\n",
    "#            bbox_to_anchor=(0.06, 0.12),\n",
    "#            ncol=4,\n",
    "#            fontsize=size_legend_font)\n",
    "\n",
    "fig.tight_layout()\n",
    "\n",
    "figNamePNG = 'impact_comparison.png'\n",
    "figNameSVG = 'impact_comparison.svg'\n",
    "\n",
    "plt.savefig(str(pngFilesDir/figNamePNG)) # export fig as png\n",
    "plt.savefig(str(svgFilesDir/figNameSVG)) # export fig as svg\n"
   ]
  },
  {
   "cell_type": "code",
   "execution_count": 27,
   "id": "7165ff82",
   "metadata": {},
   "outputs": [
    {
     "data": {
      "image/png": "[encoded data removed]",
      "text/plain": [
       "<Figure size 1003.94x1003.94 with 1 Axes>"
      ]
     },
     "metadata": {},
     "output_type": "display_data"
    }
   ],
   "source": [
    "# Plot\n",
    "\n",
    "# Figure specifications (fonts, sizes, figsize, etc.)\n",
    "size_legend_font = 8\n",
    "size_tick_font = 6\n",
    "size_label_font = 7\n",
    "mpl.rc(\"xtick\", labelsize=size_tick_font)\n",
    "mpl.rc(\"ytick\", labelsize=size_tick_font)\n",
    "mpl.rc(\"axes\", labelsize=size_label_font, linewidth=0.6)\n",
    "mpl.rc(\"font\", family=\"Arial\")\n",
    "# mpl.rc('text', usetex=True) # no LaTex on this machine\n",
    "mpl.rc(\"mathtext\", default=\"regular\")\n",
    "# mpl.rc('lines', )\n",
    "# mpl.rc('markers', )\n",
    "marker_style = dict(lw=0, marker=\"D\", ms=1.5, mec=\"r\", mfc=\"none\", mew=0.7)\n",
    "\n",
    "# Size of the figure\n",
    "size_in_mm = (85, 85)  # input the desired size in mm (width, height)\n",
    "fig, ax = plt.subplots(\n",
    "    nrows=1,\n",
    "    ncols=1,\n",
    "    figsize=[x / 25.4 for x in size_in_mm],\n",
    "    dpi=300,\n",
    "    sharey=True,\n",
    "    # tight_layout = {'pad': 0}\n",
    ")\n",
    "\n",
    "## Scatter plot ################################################################\n",
    "x = [1,2,4,6,8,10,20,30,40,50,60,70,80,90,100]\n",
    "y1 = [70.33267286,37.43079022,20.9798489,15.4962018,12.75437825,11.10928411,7.819095849,6.722366428,6.174001718,5.844982891,5.625637007,5.468961375,5.351454652,5.260060533,5.186945238]\n",
    "y2 = \n",
    "\n",
    "ax.scatter(x, y, s=50, edgecolors=\"k\", color=[v for v in allcolors.values()][1])\n",
    "ax.set_yscale(\"log\")\n",
    "ax.set_xscale(\"log\")\n",
    "# height = 0.8  # the height of the bars (thickness)\n",
    "# bars = ax.barh(\n",
    "#     y=result_plot.iloc[:, 0],\n",
    "#     width=result_plot.iloc[:, 1],\n",
    "#     height=height,\n",
    "#     color=[v for v in allcolors.values()],\n",
    "#     edgecolor=\"k\",\n",
    "#     linewidth=0.3,\n",
    "# )\n",
    "\n",
    "# ax.bar_label(bars, fmt=\"%.1f\", padding=-7, fontsize=5)\n",
    "\n",
    "# ax.yaxis.set_ticklabels(result_plot[\"activity name\"], rotation=-90, va=\"center\")\n",
    "# ax.tick_params(axis='y', which='major', length=0.001, pad=-118) # almost invisible, pad = separation of text from axis\n",
    "\n",
    "# ax.set_xlabel(\"GWP100 ($kg_{CO_{2}eq} kg^{-1}$)\")\n",
    "# ax.grid(True)\n",
    "# ax.xaxis.grid(True, ls=':', lw=0.3)\n",
    "# ax.yaxis.grid(True, ls=':', lw=0.3)\n",
    "# ax.xaxis.set_minor_locator(MultipleLocator(5))\n",
    "# ax.xaxis.set_major_locator(MultipleLocator(20))\n",
    "# ax.set_axisbelow(True)\n",
    "\n",
    "# # LEGEND\n",
    "# handles, labels = ax.get_legend_handles_labels()\n",
    "# fig.legend(handles, labels,\n",
    "#            frameon=True, loc='upper left',\n",
    "#            bbox_to_anchor=(0.06, 0.12),\n",
    "#            ncol=4,\n",
    "#            fontsize=size_legend_font)\n",
    "\n",
    "fig.tight_layout()\n",
    "\n",
    "# figNamePNG = 'impact_comparison.png'\n",
    "# figNameSVG = 'impact_comparison.svg'\n",
    "\n",
    "# plt.savefig(str(pngFilesDir/figNamePNG)) # export fig as png\n",
    "# plt.savefig(str(svgFilesDir/figNameSVG)) # export fig as svg\n"
   ]
  },
  {
   "cell_type": "code",
   "execution_count": null,
   "id": "ee82f099",
   "metadata": {},
   "outputs": [],
   "source": []
  }
 ],
 "metadata": {
  "kernelspec": {
   "display_name": "Python 3.9.7",
   "language": "python",
   "name": "python3"
  },
  "language_info": {
   "codemirror_mode": {
    "name": "ipython",
    "version": 3
   },
   "file_extension": ".py",
   "mimetype": "text/x-python",
   "name": "python",
   "nbconvert_exporter": "python",
   "pygments_lexer": "ipython3",
   "version": "3.9.7"
  },
  "vscode": {
   "interpreter": {
    "hash": "bd958e837233136b65ef886a306db27124b4a48f9a20f2930a4727b08bf88f0b"
   }
  }
 },
 "nbformat": 4,
 "nbformat_minor": 5
}
